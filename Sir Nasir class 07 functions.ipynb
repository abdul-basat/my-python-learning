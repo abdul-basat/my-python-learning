{
 "cells": [
  {
   "cell_type": "markdown",
   "id": "dc036dfe",
   "metadata": {},
   "source": [
    "## Functions\n",
    "\n",
    "- Built in (print, len etc)\n",
    "\n",
    "- User defined\n"
   ]
  },
  {
   "cell_type": "code",
   "execution_count": 1,
   "id": "9f182de7",
   "metadata": {},
   "outputs": [
    {
     "name": "stdout",
     "output_type": "stream",
     "text": [
      "Hello\n"
     ]
    }
   ],
   "source": [
    "print('Hello')"
   ]
  },
  {
   "cell_type": "code",
   "execution_count": 2,
   "id": "2b0f5fcb",
   "metadata": {
    "scrolled": true
   },
   "outputs": [
    {
     "data": {
      "text/plain": [
       "5"
      ]
     },
     "execution_count": 2,
     "metadata": {},
     "output_type": "execute_result"
    }
   ],
   "source": [
    "len('Hello')"
   ]
  },
  {
   "cell_type": "markdown",
   "id": "268aaeca",
   "metadata": {},
   "source": [
    "### What is a function?\n",
    "\n",
    "    Advantage: code reuseability\n",
    "               code simplicity / readability\n",
    "               bug resolving\n",
    "               \n",
    "                    "
   ]
  },
  {
   "cell_type": "markdown",
   "id": "339f8338",
   "metadata": {},
   "source": [
    "### How to create a function:\n",
    "    -> in 3 steps:\n",
    "        1. Define function\n",
    "        2. Call function\n",
    "        3. Result"
   ]
  },
  {
   "cell_type": "markdown",
   "id": "ff10d334",
   "metadata": {},
   "source": [
    "### Defining a function"
   ]
  },
  {
   "cell_type": "code",
   "execution_count": 3,
   "id": "bb723f28",
   "metadata": {},
   "outputs": [],
   "source": [
    "# naming conviction should be implemented.\n",
    "# we use () for function, variable has no ()\n",
    "# : after () and indentation for body\n",
    "\n",
    "def function_name():\n",
    "#     function_body\n",
    "#     function_body\n",
    "# function_name('I am body of my function')\n",
    "    print('I am body of my function')"
   ]
  },
  {
   "cell_type": "markdown",
   "id": "6c8c361d",
   "metadata": {},
   "source": [
    "### Calling a function"
   ]
  },
  {
   "cell_type": "code",
   "execution_count": 4,
   "id": "15af1f20",
   "metadata": {
    "scrolled": false
   },
   "outputs": [
    {
     "name": "stdout",
     "output_type": "stream",
     "text": [
      "I am body of my function\n"
     ]
    }
   ],
   "source": [
    "function_name()"
   ]
  },
  {
   "cell_type": "code",
   "execution_count": 5,
   "id": "3d186a7c",
   "metadata": {},
   "outputs": [],
   "source": [
    "# ParameterLess function\n",
    "\n",
    "def greetUser():\n",
    "    print(\"Welcome\")"
   ]
  },
  {
   "cell_type": "code",
   "execution_count": 6,
   "id": "9b46c722",
   "metadata": {
    "scrolled": true
   },
   "outputs": [
    {
     "name": "stdout",
     "output_type": "stream",
     "text": [
      "Welcome\n"
     ]
    }
   ],
   "source": [
    "greetUser()"
   ]
  },
  {
   "cell_type": "markdown",
   "id": "4838aefc",
   "metadata": {},
   "source": [
    "### Parameter and Argument:\n",
    "    \n",
    "- Parameters are expected values are given from user.\n",
    "- Prguments are values that user supplies to function."
   ]
  },
  {
   "cell_type": "code",
   "execution_count": 7,
   "id": "c3411abf",
   "metadata": {},
   "outputs": [],
   "source": [
    "# parametrized function\n",
    "\n",
    "def greetUser(userName): # parameter\n",
    "    print(f\"Welcome {userName}\")"
   ]
  },
  {
   "cell_type": "code",
   "execution_count": 8,
   "id": "dcca8e74",
   "metadata": {
    "scrolled": false
   },
   "outputs": [
    {
     "name": "stdout",
     "output_type": "stream",
     "text": [
      "Welcome Abdul Basit\n"
     ]
    }
   ],
   "source": [
    "greetUser(\"Abdul Basit\") #Argument"
   ]
  },
  {
   "cell_type": "code",
   "execution_count": 9,
   "id": "adf63b10",
   "metadata": {},
   "outputs": [],
   "source": [
    "def greetUser(userName):\n",
    "    name = userName\n",
    "    print(f\"Welcome {name}\")"
   ]
  },
  {
   "cell_type": "code",
   "execution_count": 10,
   "id": "8d7b36c5",
   "metadata": {
    "scrolled": true
   },
   "outputs": [
    {
     "name": "stdout",
     "output_type": "stream",
     "text": [
      "Welcome Abdul Basit\n"
     ]
    }
   ],
   "source": [
    "greetUser(\"Abdul Basit\")"
   ]
  },
  {
   "cell_type": "markdown",
   "id": "13463e05",
   "metadata": {},
   "source": [
    "#### There can be many more parameters in a function:"
   ]
  },
  {
   "cell_type": "code",
   "execution_count": 11,
   "id": "32dc2772",
   "metadata": {},
   "outputs": [],
   "source": [
    "def bio_data(name, age, gender, nationality, email, contact):\n",
    "    print(f\"\"\"\n",
    "            BIO DATA\n",
    "            ________\n",
    "            \n",
    "            Name of Student: {name}\n",
    "            Age of student: {age}\n",
    "            Gender of Student: {gender}\n",
    "            Nationality of Student: {nationality}\n",
    "            Email of Student: {email}\n",
    "            Contact of Student: {contact}\n",
    "            \"\"\")"
   ]
  },
  {
   "cell_type": "code",
   "execution_count": 12,
   "id": "691f6baf",
   "metadata": {
    "scrolled": true
   },
   "outputs": [
    {
     "name": "stdout",
     "output_type": "stream",
     "text": [
      "\n",
      "            BIO DATA\n",
      "            ________\n",
      "            \n",
      "            Name of Student: Abdul Basit\n",
      "            Age of student: 30 years\n",
      "            Gender of Student: M\n",
      "            Nationality of Student: Pakistani\n",
      "            Email of Student: info@futeac.com\n",
      "            Contact of Student: 12345\n",
      "            \n"
     ]
    }
   ],
   "source": [
    "# positional arguments are assigned according to the position in the parameter.\n",
    "\n",
    "bio_data(\"Abdul Basit\", \"30 years\", \"M\", \"Pakistani\", \"info@futeac.com\", \"12345\")"
   ]
  },
  {
   "cell_type": "code",
   "execution_count": 13,
   "id": "e818a68f",
   "metadata": {},
   "outputs": [],
   "source": [
    "def fullName(fname, lname, age):\n",
    "    print(f\"{fname} {lname}\")\n",
    "    print(f\"age is {age}\")"
   ]
  },
  {
   "cell_type": "code",
   "execution_count": 14,
   "id": "d648667b",
   "metadata": {
    "scrolled": true
   },
   "outputs": [
    {
     "name": "stdout",
     "output_type": "stream",
     "text": [
      "Abdul 30\n",
      "age is Basit\n"
     ]
    }
   ],
   "source": [
    "fullName(\"Abdul\", 30, \"Basit\")"
   ]
  },
  {
   "cell_type": "code",
   "execution_count": 15,
   "id": "ec42c126",
   "metadata": {
    "scrolled": true
   },
   "outputs": [
    {
     "name": "stdout",
     "output_type": "stream",
     "text": [
      "Abdul Basit\n",
      "age is 34\n"
     ]
    }
   ],
   "source": [
    "#Keyword Arguments:\n",
    "fullName(age=34, lname=\"Basit\", fname=\"Abdul\")"
   ]
  },
  {
   "cell_type": "code",
   "execution_count": 16,
   "id": "b0d0194a",
   "metadata": {},
   "outputs": [],
   "source": [
    "def areaofTriangle(l,b):\n",
    "    area = 0.5 * 1 * b\n",
    "    print(f\"Area of triangle is {area} sq.cm\")"
   ]
  },
  {
   "cell_type": "code",
   "execution_count": 17,
   "id": "ab7f9db6",
   "metadata": {
    "scrolled": true
   },
   "outputs": [
    {
     "name": "stdout",
     "output_type": "stream",
     "text": [
      "Area of triangle is 12.0 sq.cm\n"
     ]
    }
   ],
   "source": [
    "areaofTriangle(30, 24)"
   ]
  },
  {
   "cell_type": "code",
   "execution_count": 18,
   "id": "866ffee7",
   "metadata": {},
   "outputs": [],
   "source": [
    "def taxCalculator(income):\n",
    "    tax_amount = 0\n",
    "    if income >= 1000000:\n",
    "        tax_per = 20\n",
    "        tax_amount = income * 0.20\n",
    "        print(f\"Tax amount is {tax_amount}\")\n",
    "    elif income >= 500000:\n",
    "        tax_per = 10\n",
    "        tax_amount = income * 0.10\n",
    "        print(f\"Tax amount is {tax_amount}\")\n",
    "    elif income >= 250000:\n",
    "        tax_per = 5\n",
    "        tax_amount = income * 0.05\n",
    "        print(f\"Tax amount is {tax_amount}\")\n",
    "    else:\n",
    "        tax_amount = income * 0\n",
    "        print(f\"Tax amount is {tax_amount}\")\n",
    "    "
   ]
  },
  {
   "cell_type": "code",
   "execution_count": 19,
   "id": "951a009c",
   "metadata": {
    "scrolled": true
   },
   "outputs": [
    {
     "name": "stdout",
     "output_type": "stream",
     "text": [
      "Tax amount is 0\n"
     ]
    }
   ],
   "source": [
    "taxCalculator(20000)"
   ]
  },
  {
   "cell_type": "code",
   "execution_count": 20,
   "id": "885ae44f",
   "metadata": {
    "scrolled": true
   },
   "outputs": [
    {
     "name": "stdout",
     "output_type": "stream",
     "text": [
      "Tax amount is 12500.0\n"
     ]
    }
   ],
   "source": [
    "taxCalculator(250000)"
   ]
  },
  {
   "cell_type": "code",
   "execution_count": 21,
   "id": "60464d99",
   "metadata": {
    "scrolled": false
   },
   "outputs": [
    {
     "ename": "TypeError",
     "evalue": "taxCalculator() takes 1 positional argument but 2 were given",
     "output_type": "error",
     "traceback": [
      "\u001b[1;31m---------------------------------------------------------------------------\u001b[0m",
      "\u001b[1;31mTypeError\u001b[0m                                 Traceback (most recent call last)",
      "Input \u001b[1;32mIn [21]\u001b[0m, in \u001b[0;36m<cell line: 3>\u001b[1;34m()\u001b[0m\n\u001b[0;32m      1\u001b[0m \u001b[38;5;66;03m# the function takes 1 positional argument but 2 were given:\u001b[39;00m\n\u001b[1;32m----> 3\u001b[0m \u001b[43mtaxCalculator\u001b[49m\u001b[43m(\u001b[49m\u001b[38;5;241;43m20000\u001b[39;49m\u001b[43m,\u001b[49m\u001b[43m \u001b[49m\u001b[38;5;241;43m25000000\u001b[39;49m\u001b[43m)\u001b[49m\n",
      "\u001b[1;31mTypeError\u001b[0m: taxCalculator() takes 1 positional argument but 2 were given"
     ]
    }
   ],
   "source": [
    "# the function takes 1 positional argument but 2 were given:\n",
    "\n",
    "taxCalculator(20000, 25000000)"
   ]
  },
  {
   "cell_type": "code",
   "execution_count": null,
   "id": "6c0c08f4",
   "metadata": {},
   "outputs": [],
   "source": [
    "def grossSalary(salary, tax):\n",
    "    gross = salary - tax\n",
    "    print(f\"Gross Salary is {gross}\")"
   ]
  },
  {
   "cell_type": "code",
   "execution_count": null,
   "id": "97895732",
   "metadata": {
    "scrolled": true
   },
   "outputs": [],
   "source": [
    "grossSalary(700000, taxCalculator(700000))"
   ]
  },
  {
   "cell_type": "markdown",
   "id": "1efd31e4",
   "metadata": {},
   "source": [
    "### Local Variables and Global Variables\n",
    "- Local Variables: All the variables defined inside the function body are local and can not be accessed outside the function.\n",
    "- Global Varibales: All the variables defined outside a function body are global and can be accessed outside as well as inside the function body."
   ]
  },
  {
   "cell_type": "code",
   "execution_count": null,
   "id": "e24970f4",
   "metadata": {},
   "outputs": [],
   "source": [
    "globalVariable = \"I am Global\"\n",
    "def abc():\n",
    "    print(\"I am ABC\")\n",
    "    print(globalVariable)\n",
    "    a = 1000 # local variable\n",
    "    print(a) # local varibale accessed inside the function body"
   ]
  },
  {
   "cell_type": "code",
   "execution_count": null,
   "id": "cc998e82",
   "metadata": {
    "scrolled": true
   },
   "outputs": [],
   "source": [
    "abc()"
   ]
  },
  {
   "cell_type": "code",
   "execution_count": null,
   "id": "b927bbf7",
   "metadata": {
    "scrolled": true
   },
   "outputs": [],
   "source": [
    "print(a) # local variable accessed outside the function body>> Error"
   ]
  },
  {
   "cell_type": "code",
   "execution_count": null,
   "id": "b0429168",
   "metadata": {
    "scrolled": true
   },
   "outputs": [],
   "source": [
    "print(globalVariable)"
   ]
  },
  {
   "cell_type": "markdown",
   "id": "8b9d37ca",
   "metadata": {},
   "source": [
    "## Point to be Noted:\n",
    "- As `tax_amount` in taxCalculator is a local variable, so it print when we called `taxCalculator()` with `grossSalary()`."
   ]
  },
  {
   "cell_type": "markdown",
   "id": "0fb77e78",
   "metadata": {},
   "source": [
    "### Here we can make `tax_amount` a global variable but as it relates to a particular function, so should not be available to everyone.\n",
    "- Another approach is, but not recommended to tag the `tax_amount` as global inside the function:"
   ]
  },
  {
   "cell_type": "code",
   "execution_count": null,
   "id": "4b2c3b0d",
   "metadata": {},
   "outputs": [],
   "source": [
    "def taxCalculator(income):\n",
    "    global tax_amount # we tag it as global, but this is not recommended, however occassionly we use it\n",
    "    tax_amount = 0\n",
    "    if income >= 1000000:\n",
    "        tax_per = 20\n",
    "        tax_amount = income * 0.20\n",
    "        \n",
    "    elif income >= 500000:\n",
    "        tax_per = 10\n",
    "        tax_amount = income * 0.10\n",
    "        \n",
    "    elif income >= 250000:\n",
    "        tax_per = 5\n",
    "        tax_amount = income * 0.05\n",
    "    else:\n",
    "        tax_amount = income * 0\n",
    "        print(f\"Tax amount is {tax_amount}\")"
   ]
  },
  {
   "cell_type": "markdown",
   "id": "9c5cfeb3",
   "metadata": {},
   "source": [
    "Recommended approach is to use `return` in order the get value of local variable. Here we don't need to print the value."
   ]
  },
  {
   "cell_type": "code",
   "execution_count": null,
   "id": "8d1b2697",
   "metadata": {},
   "outputs": [],
   "source": [
    "def taxCalculator(income):\n",
    "    global tax_amount # we tag it as global, but this is not recommended, however occassionly we use it\n",
    "    tax_amount = 0\n",
    "    if income >= 1000000:\n",
    "        tax_per = 20\n",
    "        tax_amount = income * 0.20\n",
    "        return tax_amount\n",
    "        \n",
    "    elif income >= 500000:\n",
    "        tax_per = 10\n",
    "        tax_amount = income * 0.10\n",
    "        return tax_amount\n",
    "        \n",
    "    elif income >= 250000:\n",
    "        tax_per = 5\n",
    "        tax_amount = income * 0.05\n",
    "        return tax_amount\n",
    "    else:\n",
    "        tax_amount = income * 0\n",
    "        return tax_amount"
   ]
  },
  {
   "cell_type": "code",
   "execution_count": null,
   "id": "c40039ab",
   "metadata": {
    "scrolled": true
   },
   "outputs": [],
   "source": [
    "grossSalary(700000, taxCalculator(700000))"
   ]
  },
  {
   "cell_type": "markdown",
   "id": "69865528",
   "metadata": {},
   "source": [
    "## Returned Value Examples:"
   ]
  },
  {
   "cell_type": "code",
   "execution_count": null,
   "id": "e9ab6177",
   "metadata": {},
   "outputs": [],
   "source": [
    "h = 20"
   ]
  },
  {
   "cell_type": "code",
   "execution_count": null,
   "id": "55f2b1d3",
   "metadata": {},
   "outputs": [],
   "source": [
    "def xyz():\n",
    "    h = 10\n",
    "    h += 1\n",
    "    print(h)"
   ]
  },
  {
   "cell_type": "code",
   "execution_count": null,
   "id": "939db437",
   "metadata": {
    "scrolled": true
   },
   "outputs": [],
   "source": [
    "xyz()"
   ]
  },
  {
   "cell_type": "code",
   "execution_count": null,
   "id": "a775b976",
   "metadata": {},
   "outputs": [],
   "source": [
    "h = 20\n",
    "def xyz():\n",
    "    global h # this override the h=20\n",
    "    h += 1\n",
    "    print(h)"
   ]
  },
  {
   "cell_type": "code",
   "execution_count": null,
   "id": "ffbfcb4e",
   "metadata": {},
   "outputs": [],
   "source": [
    "def add(num1, num2):\n",
    "    return num1 + num2"
   ]
  },
  {
   "cell_type": "code",
   "execution_count": null,
   "id": "d36eff58",
   "metadata": {
    "scrolled": false
   },
   "outputs": [],
   "source": [
    "add(15, 36)"
   ]
  },
  {
   "cell_type": "code",
   "execution_count": null,
   "id": "460ecb04",
   "metadata": {},
   "outputs": [],
   "source": [
    "res = add(12, 20) # we can store the value in a variable"
   ]
  },
  {
   "cell_type": "code",
   "execution_count": null,
   "id": "6a4a509d",
   "metadata": {},
   "outputs": [],
   "source": [
    "res"
   ]
  },
  {
   "cell_type": "code",
   "execution_count": null,
   "id": "fce64fd4",
   "metadata": {
    "scrolled": true
   },
   "outputs": [],
   "source": [
    "print(f\"This is returned value: {add(36, 89)}\") #whatever value returned, it will be printed and we can format it too"
   ]
  },
  {
   "cell_type": "markdown",
   "id": "19c533c5",
   "metadata": {},
   "source": [
    "### Point to be Noted:\n",
    "- if we just print the value and not return it, function will not store the value."
   ]
  },
  {
   "cell_type": "code",
   "execution_count": null,
   "id": "48e9b66e",
   "metadata": {},
   "outputs": [],
   "source": [
    "def add(num1, num2):\n",
    "    print(num1 + num2)"
   ]
  },
  {
   "cell_type": "code",
   "execution_count": null,
   "id": "6acbcdde",
   "metadata": {},
   "outputs": [],
   "source": [
    "res = add(12, 56)"
   ]
  },
  {
   "cell_type": "code",
   "execution_count": null,
   "id": "d8244e18",
   "metadata": {},
   "outputs": [],
   "source": [
    "# this will be None as nothing is returned from the function\n",
    "print(res)"
   ]
  },
  {
   "cell_type": "code",
   "execution_count": null,
   "id": "bb061d72",
   "metadata": {},
   "outputs": [],
   "source": [
    "def add(num1, num2):\n",
    "    return num1 + num2\n",
    "    print(\"I am after return\") #value after return will not executed. so, it will not print."
   ]
  },
  {
   "cell_type": "code",
   "execution_count": null,
   "id": "c780cc7c",
   "metadata": {
    "scrolled": true
   },
   "outputs": [],
   "source": [
    "add(15, 21)"
   ]
  },
  {
   "cell_type": "code",
   "execution_count": null,
   "id": "0fce4189",
   "metadata": {
    "scrolled": true
   },
   "outputs": [],
   "source": [
    "def squareCube(num):\n",
    "    s = num ** 2\n",
    "    c = num ** 3\n",
    "    return s,c"
   ]
  },
  {
   "cell_type": "code",
   "execution_count": null,
   "id": "03228d44",
   "metadata": {},
   "outputs": [],
   "source": [
    "squareCube(15)"
   ]
  },
  {
   "cell_type": "markdown",
   "id": "81e7553f",
   "metadata": {},
   "source": [
    "### Point to be Noted:\n",
    "- more than one value will become tuple i.e ()\n",
    "- we can return multiple values with 'return'"
   ]
  },
  {
   "cell_type": "code",
   "execution_count": null,
   "id": "8173dabe",
   "metadata": {},
   "outputs": [],
   "source": [
    "num = int(input('Enter number: '))\n",
    "def squareCube(num):\n",
    "    s = num ** 2\n",
    "    c = num ** 3\n",
    "    return s, c\n",
    "squareCube(num)"
   ]
  },
  {
   "cell_type": "markdown",
   "id": "39c32f0f",
   "metadata": {},
   "source": [
    "To unpack the value:"
   ]
  },
  {
   "cell_type": "code",
   "execution_count": null,
   "id": "182f9b01",
   "metadata": {
    "scrolled": true
   },
   "outputs": [],
   "source": [
    "square, cube = squareCube(num)"
   ]
  },
  {
   "cell_type": "code",
   "execution_count": null,
   "id": "c12b5b68",
   "metadata": {},
   "outputs": [],
   "source": [
    "square"
   ]
  },
  {
   "cell_type": "code",
   "execution_count": null,
   "id": "62c6285f",
   "metadata": {
    "scrolled": true
   },
   "outputs": [],
   "source": [
    "cube"
   ]
  },
  {
   "cell_type": "markdown",
   "id": "0baa7d34",
   "metadata": {},
   "source": [
    "### Default Values"
   ]
  },
  {
   "cell_type": "code",
   "execution_count": null,
   "id": "0db267ce",
   "metadata": {},
   "outputs": [],
   "source": [
    "print(\"Abdul Basit\")"
   ]
  },
  {
   "cell_type": "code",
   "execution_count": null,
   "id": "fc41fe43",
   "metadata": {},
   "outputs": [],
   "source": [
    "def salaryCalc(basic, commission=500): # default value must be last parameter or all default values must be at the end.\n",
    "    total = basic + commission\n",
    "    return total"
   ]
  },
  {
   "cell_type": "code",
   "execution_count": null,
   "id": "ff1b43b1",
   "metadata": {},
   "outputs": [],
   "source": [
    "salaryCalc(10000, 2000)"
   ]
  },
  {
   "cell_type": "code",
   "execution_count": null,
   "id": "934ac276",
   "metadata": {
    "scrolled": true
   },
   "outputs": [],
   "source": [
    "salaryCalc(15000)"
   ]
  },
  {
   "cell_type": "code",
   "execution_count": null,
   "id": "82329dac",
   "metadata": {},
   "outputs": [],
   "source": [
    "def salaryCal(basic, bonus=1000, commission=500): # all default values must be at the end.\n",
    "    total = basic + bonus + commission\n",
    "    return total"
   ]
  },
  {
   "cell_type": "code",
   "execution_count": null,
   "id": "60f39a18",
   "metadata": {
    "scrolled": true
   },
   "outputs": [],
   "source": [
    "salaryCal(12000)"
   ]
  },
  {
   "cell_type": "markdown",
   "id": "1099c147",
   "metadata": {},
   "source": [
    "### Returning Dictionary"
   ]
  },
  {
   "cell_type": "code",
   "execution_count": null,
   "id": "3017e355",
   "metadata": {},
   "outputs": [],
   "source": [
    "def build_person(f_name, l_name):\n",
    "    person = {'first' : f_name, 'last' : l_name}\n",
    "    return person"
   ]
  },
  {
   "cell_type": "code",
   "execution_count": null,
   "id": "aaf03592",
   "metadata": {
    "scrolled": false
   },
   "outputs": [],
   "source": [
    "farmer = build_person('salim', 'khan')\n",
    "print(farmer)"
   ]
  },
  {
   "cell_type": "code",
   "execution_count": null,
   "id": "054518f7",
   "metadata": {},
   "outputs": [],
   "source": [
    "def build_person(f_name, l_name, age=''): #default is empty\n",
    "    person = {'first' : f_name, 'last' : l_name}\n",
    "    if age:\n",
    "        person['age'] = age\n",
    "        return person"
   ]
  },
  {
   "cell_type": "code",
   "execution_count": null,
   "id": "bf69d0f2",
   "metadata": {
    "scrolled": true
   },
   "outputs": [],
   "source": [
    "baby = build_person('Osairim', 'Abdullah', age=1)\n",
    "print(baby)"
   ]
  },
  {
   "cell_type": "code",
   "execution_count": null,
   "id": "eeedeeee",
   "metadata": {
    "scrolled": true
   },
   "outputs": [],
   "source": [
    "build_person('Abdul', 'Basit', 30)"
   ]
  },
  {
   "cell_type": "code",
   "execution_count": null,
   "id": "d7d11cb2",
   "metadata": {},
   "outputs": [],
   "source": [
    "def greet_users(names):\n",
    "    for name in names:\n",
    "        msg = 'Hello ' + name.title() + '!'\n",
    "        print(msg)"
   ]
  },
  {
   "cell_type": "code",
   "execution_count": null,
   "id": "6e65aa15",
   "metadata": {
    "scrolled": false
   },
   "outputs": [],
   "source": [
    "usernames = ['Irfan', 'Salaman', 'Kamran']\n",
    "greet_users(usernames)"
   ]
  },
  {
   "cell_type": "markdown",
   "id": "3adc022d",
   "metadata": {},
   "source": [
    "## Point to be Noted\n",
    "- if we provide one name in this `greet_users` function, it will iterate single character:"
   ]
  },
  {
   "cell_type": "code",
   "execution_count": null,
   "id": "6b5fe1f0",
   "metadata": {
    "scrolled": false
   },
   "outputs": [],
   "source": [
    "greet_users('Ahmad')"
   ]
  },
  {
   "cell_type": "markdown",
   "id": "59c93791",
   "metadata": {},
   "source": [
    "## Modifying a list in a Function:"
   ]
  },
  {
   "cell_type": "code",
   "execution_count": null,
   "id": "76eb81c7",
   "metadata": {},
   "outputs": [],
   "source": [
    "unprinted_designs = ['iphone case', 'box', 'bill']\n",
    "completed_tasks = []"
   ]
  },
  {
   "cell_type": "code",
   "execution_count": null,
   "id": "8d404e23",
   "metadata": {
    "scrolled": true
   },
   "outputs": [],
   "source": [
    "while unprinted_designs:\n",
    "    current_design = unprinted_designs.pop()\n",
    "    print(\"Printing Task: \" + current_design)\n",
    "    completed_tasks.append(current_design)\n",
    "     \n",
    "print(\"\\nThe following tasks have been printed: \")\n",
    "for completed_task in completed_tasks:\n",
    "    print(completed_task)"
   ]
  },
  {
   "cell_type": "code",
   "execution_count": null,
   "id": "806bc0ba",
   "metadata": {},
   "outputs": [],
   "source": [
    "def print_tasks(unprinted_designs, completed_tasks):\n",
    "\n",
    "    while unprinted_designs:\n",
    "        current_design = unprinted_designs.pop()\n",
    "\n",
    "        print(\"Printing Task: \" + current_design)\n",
    "        completed_task.append(current_design)"
   ]
  },
  {
   "cell_type": "code",
   "execution_count": null,
   "id": "872ec822",
   "metadata": {},
   "outputs": [],
   "source": [
    "def show_completed_tasks(completed_task):\n",
    "    \n",
    "    print(\"\\nThe following tasks have been printed:\")\n",
    "    for completed_tasks in completed_task:\n",
    "        print(completed_tasks)"
   ]
  },
  {
   "cell_type": "code",
   "execution_count": null,
   "id": "3d12a129",
   "metadata": {},
   "outputs": [],
   "source": [
    "unprinted_designs = ['Grade 2 Urdu', 'Grade 3 English', 'Grade 4 Maths']\n",
    "completed_task = []"
   ]
  },
  {
   "cell_type": "code",
   "execution_count": null,
   "id": "a7ddd8ec",
   "metadata": {
    "scrolled": true
   },
   "outputs": [],
   "source": [
    "print_tasks(unprinted_designs, completed_tasks)\n",
    "show_completed_tasks(completed_task)"
   ]
  },
  {
   "cell_type": "markdown",
   "id": "95c3933d",
   "metadata": {},
   "source": [
    "## Preventing a function from modifying a list:"
   ]
  },
  {
   "cell_type": "code",
   "execution_count": null,
   "id": "77c284bc",
   "metadata": {
    "scrolled": true
   },
   "outputs": [],
   "source": [
    "a = [1,2,3,4,5]\n",
    "b = a           # reference copy\n",
    "print(b)"
   ]
  },
  {
   "cell_type": "code",
   "execution_count": null,
   "id": "5bc3a2d1",
   "metadata": {},
   "outputs": [],
   "source": [
    "b.pop(3)"
   ]
  },
  {
   "cell_type": "code",
   "execution_count": null,
   "id": "1ccd066d",
   "metadata": {
    "scrolled": true
   },
   "outputs": [],
   "source": [
    "a # 4 poped out as we pop it from 'b', so reference copy not be used if we want to store our data"
   ]
  },
  {
   "cell_type": "code",
   "execution_count": null,
   "id": "80fb5497",
   "metadata": {},
   "outputs": [],
   "source": [
    "# another recommended approach to copy a list:\n",
    "\n",
    "b = a.copy() # by value copy"
   ]
  },
  {
   "cell_type": "code",
   "execution_count": null,
   "id": "f8fcc5e0",
   "metadata": {},
   "outputs": [],
   "source": [
    "b"
   ]
  },
  {
   "cell_type": "code",
   "execution_count": null,
   "id": "9137a34c",
   "metadata": {},
   "outputs": [],
   "source": [
    "# copy by slicing\n",
    "\n",
    "c = a[:] # [:] is used to copy the whole list, by value copy"
   ]
  },
  {
   "cell_type": "code",
   "execution_count": null,
   "id": "1667f7cd",
   "metadata": {},
   "outputs": [],
   "source": [
    "c"
   ]
  },
  {
   "cell_type": "code",
   "execution_count": null,
   "id": "fdcbb32e",
   "metadata": {
    "scrolled": true
   },
   "outputs": [],
   "source": [
    "print_tasks(unprinted_designs[:], completed_tasks)\n",
    "show_completed_tasks(completed_task)"
   ]
  },
  {
   "cell_type": "markdown",
   "id": "df718ad8",
   "metadata": {},
   "source": [
    "## Passing an arbitrary number of arguments"
   ]
  },
  {
   "cell_type": "code",
   "execution_count": null,
   "id": "e8446ad6",
   "metadata": {},
   "outputs": [],
   "source": [
    "def sumAll(num1, num2):\n",
    "    return num1 + num2"
   ]
  },
  {
   "cell_type": "code",
   "execution_count": null,
   "id": "4ad6bd7b",
   "metadata": {
    "scrolled": true
   },
   "outputs": [],
   "source": [
    "#error due to 1 less parameter\n",
    "sumAll(12)"
   ]
  },
  {
   "cell_type": "code",
   "execution_count": null,
   "id": "e559fb44",
   "metadata": {},
   "outputs": [],
   "source": [
    "def sumAll(num1=0, num2=0):\n",
    "    return num1 + num2"
   ]
  },
  {
   "cell_type": "code",
   "execution_count": null,
   "id": "422d1a44",
   "metadata": {},
   "outputs": [],
   "source": [
    "sumAll(12, 34)"
   ]
  },
  {
   "cell_type": "code",
   "execution_count": null,
   "id": "a1061e5d",
   "metadata": {},
   "outputs": [],
   "source": [
    "sumAll(45)"
   ]
  },
  {
   "cell_type": "code",
   "execution_count": null,
   "id": "5684fe15",
   "metadata": {},
   "outputs": [],
   "source": [
    "sumAll()"
   ]
  },
  {
   "cell_type": "code",
   "execution_count": null,
   "id": "81f21f16",
   "metadata": {},
   "outputs": [],
   "source": [
    "sumAll(12, 34, 45)"
   ]
  },
  {
   "cell_type": "code",
   "execution_count": null,
   "id": "6925188e",
   "metadata": {},
   "outputs": [],
   "source": [
    "def make_piza(*toppings): # *topping is such kind of parameter that can hold any number of values supplied to it.\n",
    "    print(toppings)"
   ]
  },
  {
   "cell_type": "code",
   "execution_count": null,
   "id": "a9e37641",
   "metadata": {
    "scrolled": true
   },
   "outputs": [],
   "source": [
    "make_piza('mushroom', 'sauce', 'extra cheese')"
   ]
  },
  {
   "cell_type": "code",
   "execution_count": null,
   "id": "8c97602f",
   "metadata": {},
   "outputs": [],
   "source": [
    "def make_pizza(*toppings):\n",
    "    print(\"\\nMaking a pizza with following toppings\")\n",
    "    for topping in toppings:\n",
    "        print(\"- \" + topping)"
   ]
  },
  {
   "cell_type": "code",
   "execution_count": null,
   "id": "9079a64c",
   "metadata": {
    "scrolled": true
   },
   "outputs": [],
   "source": [
    "make_pizza('pepperoni')\n",
    "make_pizza('mushroom', 'sauce', 'extra cheese')"
   ]
  },
  {
   "cell_type": "code",
   "execution_count": null,
   "id": "c64c05da",
   "metadata": {},
   "outputs": [],
   "source": [
    "def make_pizza(size, *toppings):\n",
    "\n",
    "    print(\"\\nMaking a \" + str(size) + \"-inch pizza with the following toppings:\")\n",
    "\n",
    "    for topping in toppings:\n",
    "        print(\"- \" + topping)"
   ]
  },
  {
   "cell_type": "code",
   "execution_count": null,
   "id": "93885b19",
   "metadata": {
    "scrolled": false
   },
   "outputs": [],
   "source": [
    "make_pizza(16, 'pepperoni')\n",
    "make_pizza(12, 'mushrooms', 'green peppers', 'extra cheese')"
   ]
  },
  {
   "cell_type": "markdown",
   "id": "97a78e5f",
   "metadata": {},
   "source": [
    "## Point to be noted:\n",
    "single star * is used for arbitrary arguments while dounle star ** argument is used for keyword arguments\n",
    "- single star used to tuple and double star used for dictionary"
   ]
  },
  {
   "cell_type": "markdown",
   "id": "7e05a8f4",
   "metadata": {},
   "source": [
    "## Using Arbitrary Keyword Arguments"
   ]
  },
  {
   "cell_type": "code",
   "execution_count": null,
   "id": "1dbbaea2",
   "metadata": {},
   "outputs": [],
   "source": [
    "def build_profile(first, last, **user_info):\n",
    "    profile = {}\n",
    "    profile['first_name'] = first\n",
    "    profile['last_name'] = last\n",
    "    for key, value in user_info.items():\n",
    "        profile[key] = value\n",
    "    return profile"
   ]
  },
  {
   "cell_type": "code",
   "execution_count": null,
   "id": "fef30244",
   "metadata": {},
   "outputs": [],
   "source": [
    "user_profile = build_profile('albert', 'einstein', location='princeton', field='physics')\n",
    "print(user_profile)"
   ]
  }
 ],
 "metadata": {
  "kernelspec": {
   "display_name": "Python 3 (ipykernel)",
   "language": "python",
   "name": "python3"
  },
  "language_info": {
   "codemirror_mode": {
    "name": "ipython",
    "version": 3
   },
   "file_extension": ".py",
   "mimetype": "text/x-python",
   "name": "python",
   "nbconvert_exporter": "python",
   "pygments_lexer": "ipython3",
   "version": "3.9.12"
  }
 },
 "nbformat": 4,
 "nbformat_minor": 5
}
