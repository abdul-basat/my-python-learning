{
 "cells": [
  {
   "cell_type": "code",
   "execution_count": null,
   "id": "e587124f",
   "metadata": {},
   "outputs": [],
   "source": [
    "# Find the value of variable\n",
    "\n",
    "numbers = [2, 4, 1]\n",
    "t = 0\n",
    "for n in numbers:\n",
    "    t = t + n\n",
    "print(t)"
   ]
  },
  {
   "cell_type": "code",
   "execution_count": 2,
   "id": "cf17f9fa",
   "metadata": {},
   "outputs": [
    {
     "name": "stdout",
     "output_type": "stream",
     "text": [
      "10\n"
     ]
    }
   ],
   "source": [
    "# Find the value of x\n",
    "\n",
    "x = 0\n",
    "for i in range(5):\n",
    "    x = x + i\n",
    "print(x)"
   ]
  },
  {
   "cell_type": "code",
   "execution_count": 5,
   "id": "c13d5b58",
   "metadata": {},
   "outputs": [],
   "source": [
    "# find the value of x\n",
    "x = range(6, 1, -3)\n",
    "\n",
    "# answer is: [6, 3] how???"
   ]
  },
  {
   "cell_type": "code",
   "execution_count": 6,
   "id": "d8665367",
   "metadata": {
    "scrolled": true
   },
   "outputs": [
    {
     "ename": "SyntaxError",
     "evalue": "invalid syntax (3293300085.py, line 5)",
     "output_type": "error",
     "traceback": [
      "\u001b[1;36m  Input \u001b[1;32mIn [6]\u001b[1;36m\u001b[0m\n\u001b[1;33m    if n % 2 == 0\u001b[0m\n\u001b[1;37m                 ^\u001b[0m\n\u001b[1;31mSyntaxError\u001b[0m\u001b[1;31m:\u001b[0m invalid syntax\n"
     ]
    }
   ],
   "source": [
    "#how many times will the for loop executes?\n",
    "\n",
    "numbers = [2, 4, 1]\n",
    "for n in numbers:\n",
    "    if n % 2 == 0\n",
    "    break\n",
    "\n",
    "# answer is '1' , how???"
   ]
  }
 ],
 "metadata": {
  "kernelspec": {
   "display_name": "Python 3 (ipykernel)",
   "language": "python",
   "name": "python3"
  },
  "language_info": {
   "codemirror_mode": {
    "name": "ipython",
    "version": 3
   },
   "file_extension": ".py",
   "mimetype": "text/x-python",
   "name": "python",
   "nbconvert_exporter": "python",
   "pygments_lexer": "ipython3",
   "version": "3.9.12"
  }
 },
 "nbformat": 4,
 "nbformat_minor": 5
}
