{
 "cells": [
  {
   "cell_type": "markdown",
   "id": "3dabcef2",
   "metadata": {},
   "source": [
    "# Assignments:\n",
    "1. - Statement from usewr and count every character occurance.\n",
    "2. - Text input: count vowels and consonants.\n",
    "3. - input is palindrome or not.\n",
    "4. - slice \n",
    "           1 2 3 4 5 6 7\n",
    "           1 2 3 4 5 6\n",
    "           1 2 3 4 5\n",
    "           1 2 3 4\n",
    "           1 2 3\n",
    "           1 2\n",
    "           1\n",
    "5. - print the diamond pattern\n",
    "               5\n",
    "              4 4\n",
    "             3   3\n",
    "            2     2\n",
    "           1       1\n",
    "           1       1\n",
    "            2     2\n",
    "             3   3\n",
    "              4 4\n",
    "               5"
   ]
  },
  {
   "cell_type": "markdown",
   "id": "d5a9d123",
   "metadata": {},
   "source": [
    "## How to print range in one line:"
   ]
  },
  {
   "cell_type": "code",
   "execution_count": 5,
   "id": "c754ef27",
   "metadata": {},
   "outputs": [
    {
     "name": "stdout",
     "output_type": "stream",
     "text": [
      "0 1 2 3 4 5 6 7 8 9 after loop\n",
      "after print\n"
     ]
    }
   ],
   "source": [
    "# end=\" \" used to print in one line.\n",
    "\n",
    "for i in range(10):\n",
    "    print(i, end=\" \")\n",
    "print('after loop')\n",
    "print('after print')"
   ]
  },
  {
   "cell_type": "code",
   "execution_count": 3,
   "id": "56c72508",
   "metadata": {},
   "outputs": [
    {
     "name": "stdout",
     "output_type": "stream",
     "text": [
      "1 2 3 4 5 6 7 "
     ]
    }
   ],
   "source": [
    "list = [1,2,3,4,5,6,7]\n",
    "for num in list:\n",
    "    print(num, end=\" \")"
   ]
  },
  {
   "cell_type": "code",
   "execution_count": 7,
   "id": "67993a93",
   "metadata": {},
   "outputs": [
    {
     "name": "stdout",
     "output_type": "stream",
     "text": [
      "1 \n",
      "1 2 \n",
      "1 2 3 \n",
      "1 2 3 4 \n",
      "1 2 3 4 5 \n"
     ]
    }
   ],
   "source": [
    "rows = 5\n",
    "for i in range(1, rows + 1):\n",
    "    for j in range(1, i + 1):\n",
    "        print(j, end=' ')\n",
    "    print('')"
   ]
  },
  {
   "cell_type": "code",
   "execution_count": 14,
   "id": "16c3c316",
   "metadata": {},
   "outputs": [
    {
     "name": "stdout",
     "output_type": "stream",
     "text": [
      "1 2 3 4 5 6 7 \r\n",
      "1 2 3 4 5 6 \r\n",
      "1 2 3 4 5 \r\n",
      "1 2 3 4 \r\n",
      "1 2 3 \r\n",
      "1 2 \r\n",
      "1 \r\n"
     ]
    }
   ],
   "source": [
    "rows = 7\n",
    "for i in range(rows, 0, -1):\n",
    "    for j in range(1, i + 1):\n",
    "        print(j, end=' ')\n",
    "    print(\"\\r\")"
   ]
  }
 ],
 "metadata": {
  "kernelspec": {
   "display_name": "Python 3 (ipykernel)",
   "language": "python",
   "name": "python3"
  },
  "language_info": {
   "codemirror_mode": {
    "name": "ipython",
    "version": 3
   },
   "file_extension": ".py",
   "mimetype": "text/x-python",
   "name": "python",
   "nbconvert_exporter": "python",
   "pygments_lexer": "ipython3",
   "version": "3.9.12"
  }
 },
 "nbformat": 4,
 "nbformat_minor": 5
}
