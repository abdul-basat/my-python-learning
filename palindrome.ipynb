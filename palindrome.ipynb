{
 "cells": [
  {
   "cell_type": "code",
   "execution_count": 2,
   "id": "716dd7ca",
   "metadata": {
    "scrolled": true
   },
   "outputs": [
    {
     "name": "stdout",
     "output_type": "stream",
     "text": [
      "Enter number: 3345\n",
      "3345 is a binary palindrome\n"
     ]
    }
   ],
   "source": [
    "n = int(input('Enter number: '))\n",
    "b = bin(n)[2:1]\n",
    "r = b[::-1]\n",
    "if b == r:\n",
    "    print(n, 'is a binary palindrome')\n",
    "else:\n",
    "    print(n, 'is not a binary palindrome')"
   ]
  },
  {
   "cell_type": "markdown",
   "id": "3a92e014",
   "metadata": {},
   "source": [
    "## NUMERIC PALINDROME"
   ]
  },
  {
   "cell_type": "code",
   "execution_count": 11,
   "id": "76aa3c93",
   "metadata": {
    "scrolled": true
   },
   "outputs": [
    {
     "name": "stdout",
     "output_type": "stream",
     "text": [
      "Enter number: 554455\n",
      "554455 is palindrome\n"
     ]
    }
   ],
   "source": [
    "n = int(input('Enter number: '))\n",
    "n = str(n)\n",
    "temp = ''\n",
    "for i in reversed(n):\n",
    "    temp = temp + i\n",
    "if temp == n:\n",
    "    print(int(n), 'is palindrome')\n",
    "else:\n",
    "    print(int(n), 'is not palindrome')    "
   ]
  },
  {
   "cell_type": "markdown",
   "id": "d7c2d645",
   "metadata": {},
   "source": [
    "## ALPHA NUMERIC PALINDROME"
   ]
  },
  {
   "cell_type": "code",
   "execution_count": 10,
   "id": "dc53a0c0",
   "metadata": {},
   "outputs": [
    {
     "name": "stdout",
     "output_type": "stream",
     "text": [
      "Enter number or word: civic\n",
      "civic is palindrome\n"
     ]
    }
   ],
   "source": [
    "n = input('Enter number or word: ')\n",
    "n = str(n)\n",
    "temp = ''\n",
    "for i in reversed(n):\n",
    "    temp = temp + i\n",
    "if temp == n:\n",
    "    print(n, 'is palindrome')\n",
    "else:\n",
    "    print(n, 'is not a palindrome')"
   ]
  }
 ],
 "metadata": {
  "kernelspec": {
   "display_name": "Python 3 (ipykernel)",
   "language": "python",
   "name": "python3"
  },
  "language_info": {
   "codemirror_mode": {
    "name": "ipython",
    "version": 3
   },
   "file_extension": ".py",
   "mimetype": "text/x-python",
   "name": "python",
   "nbconvert_exporter": "python",
   "pygments_lexer": "ipython3",
   "version": "3.9.12"
  }
 },
 "nbformat": 4,
 "nbformat_minor": 5
}
