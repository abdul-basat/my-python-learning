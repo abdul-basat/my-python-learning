{
 "cells": [
  {
   "cell_type": "markdown",
   "id": "5a5d2e60",
   "metadata": {},
   "source": [
    "## Dictionaries:\n",
    "    - dictionary is key value pair\n",
    "    - space allowed in variable name but not recommended\n",
    "    - : used b/w key and value > 'key' : 'value' and should be in quotation.\n",
    "    - sequence is not important as in list\n",
    "    - it is like a list i.e changeable\n",
    "    "
   ]
  },
  {
   "cell_type": "code",
   "execution_count": 41,
   "id": "6dc2fd1e",
   "metadata": {},
   "outputs": [
    {
     "name": "stdout",
     "output_type": "stream",
     "text": [
      "My Info:  {'name': 'Abdul Basit', 'father_name': 'Ghulam Hassan', 'dob': '2 Jan 1992', 'age': 30, 'gender': 'male', 'nationality': 'Pakistani', 'birth_place': 'Chahkan'}\n",
      "DOB:  2 Jan 1992\n"
     ]
    }
   ],
   "source": [
    "my_info = {\n",
    "    'name' : 'Abdul Basit',\n",
    "    'nick_name' : 'Basit',\n",
    "    'father_name' : 'Ghulam Hassan',\n",
    "    'dob' : '2 Jan 1992',\n",
    "    'age' : 30,\n",
    "    'gender' : 'male'\n",
    "}\n",
    "\n",
    "# adding new key pair values:\n",
    "my_info['nationality'] = 'Pakistani'\n",
    "my_info['birth_place'] = 'Chahkan'\n",
    "\n",
    "# removing an entry:\n",
    "del my_info['nick_name']\n",
    "\n",
    "\n",
    "print('My Info: ', my_info)\n",
    "print('DOB: ', my_info['dob'])"
   ]
  },
  {
   "cell_type": "markdown",
   "id": "f55e43fd",
   "metadata": {},
   "source": [
    "### Loop in Dictionaries:"
   ]
  },
  {
   "cell_type": "code",
   "execution_count": 44,
   "id": "4e8010b8",
   "metadata": {},
   "outputs": [
    {
     "name": "stdout",
     "output_type": "stream",
     "text": [
      "i name\n",
      "i father_name\n",
      "i nick_name\n",
      "i dob\n",
      "i age\n",
      "i gender\n"
     ]
    }
   ],
   "source": [
    "my_info = {\n",
    "    'name' : 'Abdul Basit',\n",
    "    'nick_name' : 'Basit',\n",
    "    'father_name' : 'Ghulam Hassan',\n",
    "    'dob' : '2 Jan 1992',\n",
    "    'age' : 30,\n",
    "    'gender' : 'male'\n",
    "}\n",
    "\n",
    "for i in my_info:\n",
    "    print('i', i)"
   ]
  },
  {
   "cell_type": "code",
   "execution_count": 45,
   "id": "f2c7a890",
   "metadata": {
    "scrolled": true
   },
   "outputs": [
    {
     "name": "stdout",
     "output_type": "stream",
     "text": [
      "i name\n",
      "i nick_name\n",
      "i father_name\n",
      "i dob\n",
      "i age\n",
      "i gender\n"
     ]
    }
   ],
   "source": [
    "# getting keys with .key built in method:\n",
    "my_info = {\n",
    "    'name' : 'Abdul Basit',\n",
    "    'nick_name' : 'Basit',\n",
    "    'father_name' : 'Ghulam Hassan',\n",
    "    'dob' : '2 Jan 1992',\n",
    "    'age' : 30,\n",
    "    'gender' : 'male'\n",
    "}\n",
    "\n",
    "for i in my_info.keys():\n",
    "    print('i', i)"
   ]
  },
  {
   "cell_type": "code",
   "execution_count": 46,
   "id": "2abaf9ef",
   "metadata": {},
   "outputs": [
    {
     "name": "stdout",
     "output_type": "stream",
     "text": [
      "i Abdul Basit\n",
      "i Basit\n",
      "i Ghulam Hassan\n",
      "i 2 Jan 1992\n",
      "i 30\n",
      "i male\n"
     ]
    }
   ],
   "source": [
    "# getting keys with .values built in method:\n",
    "my_info = {\n",
    "    'name' : 'Abdul Basit',\n",
    "    'nick_name' : 'Basit',\n",
    "    'father_name' : 'Ghulam Hassan',\n",
    "    'dob' : '2 Jan 1992',\n",
    "    'age' : 30,\n",
    "    'gender' : 'male'\n",
    "}\n",
    "\n",
    "for i in my_info.values():\n",
    "    print('i', i)"
   ]
  },
  {
   "cell_type": "code",
   "execution_count": 2,
   "id": "ec2dadc9",
   "metadata": {},
   "outputs": [
    {
     "name": "stdout",
     "output_type": "stream",
     "text": [
      "i name Abdul Basit\n",
      "i nick_name Basit\n",
      "i father_name Ghulam Hassan\n",
      "i dob 2 Jan 1992\n",
      "i age 30\n",
      "i gender male\n"
     ]
    }
   ],
   "source": [
    "\n",
    "# getting tuple of separate key values with .items built in method:\n",
    "my_info = {\n",
    "    'name' : 'Abdul Basit',\n",
    "    'nick_name' : 'Basit',\n",
    "    'father_name' : 'Ghulam Hassan',\n",
    "    'dob' : '2 Jan 1992',\n",
    "    'age' : 30,\n",
    "    'gender' : 'male'\n",
    "}\n",
    "\n",
    "for key, value in my_info.items():\n",
    "    print('i', key, value)"
   ]
  },
  {
   "cell_type": "code",
   "execution_count": 4,
   "id": "94db236f",
   "metadata": {},
   "outputs": [
    {
     "ename": "SyntaxError",
     "evalue": "invalid syntax (3582038787.py, line 21)",
     "output_type": "error",
     "traceback": [
      "\u001b[1;36m  Input \u001b[1;32mIn [4]\u001b[1;36m\u001b[0m\n\u001b[1;33m    all_students append({\u001b[0m\n\u001b[1;37m                 ^\u001b[0m\n\u001b[1;31mSyntaxError\u001b[0m\u001b[1;31m:\u001b[0m invalid syntax\n"
     ]
    }
   ],
   "source": [
    "all_students = [\n",
    "    {\n",
    "        \"Name\" : \"Inam\",\n",
    "        \"Age\" : \"45\",\n",
    "        \"Batch\" : \"Batch 37\"\n",
    "    },\n",
    "    {\n",
    "        \"Name\" : \"Masroor\",\n",
    "        \"Age\" : \"35\",\n",
    "        \"Batch\" : \"Batch 36\"\n",
    "    },\n",
    "    {\n",
    "        \"Name\" : \"Irfan\",\n",
    "        \"Age\" : \"31\",\n",
    "        \"Batch\" : \"Batch 35\",\n",
    "        \"Course\" : \"AI\"\n",
    "    }\n",
    "]\n",
    "\n",
    "#print(all_students[0].items())\n",
    "all_students append({\n",
    "        \"Name\" : \"Abdullah\",\n",
    "        \"Age\" : \"1\",\n",
    "        \"Batch\" : \"Batch 22\",\n",
    "        \"Course\" : \"AI\"\n",
    "})\n",
    "for student in all_students:\n",
    "    for l, m in student.items():\n",
    "        print(f'{l}, {m}')\n",
    "#         print(student)\n",
    "        print('_' * 10)"
   ]
  }
 ],
 "metadata": {
  "kernelspec": {
   "display_name": "Python 3 (ipykernel)",
   "language": "python",
   "name": "python3"
  },
  "language_info": {
   "codemirror_mode": {
    "name": "ipython",
    "version": 3
   },
   "file_extension": ".py",
   "mimetype": "text/x-python",
   "name": "python",
   "nbconvert_exporter": "python",
   "pygments_lexer": "ipython3",
   "version": "3.9.12"
  }
 },
 "nbformat": 4,
 "nbformat_minor": 5
}
