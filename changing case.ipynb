{
 "cells": [
  {
   "cell_type": "markdown",
   "id": "4f589223",
   "metadata": {},
   "source": [
    "### Changing case:\n",
    "lower()\n",
    "upper()\n",
    "capitalize()"
   ]
  },
  {
   "cell_type": "code",
   "execution_count": 1,
   "id": "fbad1a9d",
   "metadata": {},
   "outputs": [
    {
     "name": "stdout",
     "output_type": "stream",
     "text": [
      "Enter your city name: karachi\n",
      "city:  karachi\n"
     ]
    }
   ],
   "source": [
    "city = input('Enter your city name: ')\n",
    "print('city: ', city)"
   ]
  },
  {
   "cell_type": "code",
   "execution_count": 6,
   "id": "0aafade6",
   "metadata": {},
   "outputs": [
    {
     "name": "stdout",
     "output_type": "stream",
     "text": [
      "Enter your city name: lahore\n",
      "city:  LAHORE\n"
     ]
    }
   ],
   "source": [
    "city = input('Enter your city name: ').upper()\n",
    "print('city: ', city)"
   ]
  },
  {
   "cell_type": "code",
   "execution_count": 7,
   "id": "ee816efb",
   "metadata": {},
   "outputs": [
    {
     "name": "stdout",
     "output_type": "stream",
     "text": [
      "Enter your city name: KARACHI\n",
      "city:  karachi\n"
     ]
    }
   ],
   "source": [
    "city = input('Enter your city name: ').lower()\n",
    "print('city: ', city)"
   ]
  },
  {
   "cell_type": "code",
   "execution_count": 9,
   "id": "f70f998a",
   "metadata": {},
   "outputs": [
    {
     "name": "stdout",
     "output_type": "stream",
     "text": [
      "Enter your city name: peshawar\n",
      "city:  Peshawar\n"
     ]
    }
   ],
   "source": [
    "city = input('Enter your city name: ').capitalize()\n",
    "print('city: ', city)"
   ]
  },
  {
   "cell_type": "code",
   "execution_count": 10,
   "id": "38514e3e",
   "metadata": {},
   "outputs": [
    {
     "name": "stdout",
     "output_type": "stream",
     "text": [
      "Enter your city name: dera ismail khan\n",
      "city:  Dera Ismail Khan\n"
     ]
    }
   ],
   "source": [
    "city = input('Enter your city name: ').title()\n",
    "print('city: ', city)"
   ]
  },
  {
   "cell_type": "code",
   "execution_count": 17,
   "id": "3173941e",
   "metadata": {},
   "outputs": [
    {
     "name": "stdout",
     "output_type": "stream",
     "text": [
      "Enter city name: dERa iSmAiL khAN\n",
      "city:  DERA ISMAIL KHAN\n",
      "city:  dera ismail khan\n",
      "city:  Dera ismail khan\n",
      "city:  Dera Ismail Khan\n",
      "city:  Dera Ismail Khan\n"
     ]
    }
   ],
   "source": [
    "# changing case in print:\n",
    "\n",
    "city = input('Enter city name: ')\n",
    "print('city: ', city.upper())\n",
    "print('city: ', city.lower())\n",
    "print('city: ', city.capitalize())\n",
    "print('city: ', city.title())\n",
    "print('city: ', city.capitalize().title()) #1st capitalize and then title"
   ]
  }
 ],
 "metadata": {
  "kernelspec": {
   "display_name": "Python 3 (ipykernel)",
   "language": "python",
   "name": "python3"
  },
  "language_info": {
   "codemirror_mode": {
    "name": "ipython",
    "version": 3
   },
   "file_extension": ".py",
   "mimetype": "text/x-python",
   "name": "python",
   "nbconvert_exporter": "python",
   "pygments_lexer": "ipython3",
   "version": "3.9.12"
  }
 },
 "nbformat": 4,
 "nbformat_minor": 5
}
