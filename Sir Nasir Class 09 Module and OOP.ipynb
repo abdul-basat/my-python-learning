{
 "cells": [
  {
   "cell_type": "markdown",
   "id": "2ac2c042",
   "metadata": {},
   "source": [
    "# Modules and Object Oriented Programming:\n",
    "- What is module?\n",
    "And: A module in python is just python file. (any file with extention .py)"
   ]
  },
  {
   "cell_type": "raw",
   "id": "d188fb36",
   "metadata": {},
   "source": [
    "# what is a module in python?\n",
    "Ans: A module in python is just python file. (any file with extention .py)\n",
    "     A file with extention .ipynb can't be a module"
   ]
  },
  {
   "cell_type": "raw",
   "id": "9b441d28",
   "metadata": {},
   "source": [
    "# what a module actually holds?\n",
    "And: Functions, Classes , Atrributes "
   ]
  },
  {
   "cell_type": "raw",
   "id": "38c5c0b7",
   "metadata": {},
   "source": [
    "Buit-in module\n",
    "math , os , numpy, pandas, tensorflow "
   ]
  },
  {
   "cell_type": "markdown",
   "id": "2694d236",
   "metadata": {
    "direction": "rtl"
   },
   "source": [
    "## ضروری بات:\n",
    "<h2 style=\"color:blue; font-family: Alvi Nastaleeq; direction: RTL;\">ہم ماڈیول میں وہی فنکشن استعمال کریں گے۔ جس مقصد کے لیے ماڈیول بنایا گیا ہے۔۔</h2>\n",
    " "
   ]
  },
  {
   "cell_type": "code",
   "execution_count": 1,
   "id": "b51b039e",
   "metadata": {},
   "outputs": [],
   "source": [
    "import math"
   ]
  },
  {
   "cell_type": "code",
   "execution_count": 2,
   "id": "b2fa1e14",
   "metadata": {},
   "outputs": [
    {
     "ename": "SyntaxError",
     "evalue": "invalid syntax (3171735483.py, line 1)",
     "output_type": "error",
     "traceback": [
      "\u001b[1;36m  Input \u001b[1;32mIn [2]\u001b[1;36m\u001b[0m\n\u001b[1;33m    math.\u001b[0m\n\u001b[1;37m         ^\u001b[0m\n\u001b[1;31mSyntaxError\u001b[0m\u001b[1;31m:\u001b[0m invalid syntax\n"
     ]
    }
   ],
   "source": [
    "math."
   ]
  },
  {
   "cell_type": "markdown",
   "id": "dc4c646d",
   "metadata": {},
   "source": [
    "# Importing user defined module\n",
    "- We can see the file code with \"%load <filename.py>\""
   ]
  },
  {
   "cell_type": "code",
   "execution_count": 4,
   "id": "ea9bfa83",
   "metadata": {},
   "outputs": [],
   "source": [
    "import myModule"
   ]
  },
  {
   "cell_type": "code",
   "execution_count": 6,
   "id": "c0a8a796",
   "metadata": {
    "scrolled": true
   },
   "outputs": [
    {
     "name": "stdout",
     "output_type": "stream",
     "text": [
      "30\n"
     ]
    }
   ],
   "source": [
    "print(myModule.add(10, 20))"
   ]
  },
  {
   "cell_type": "code",
   "execution_count": null,
   "id": "9c54c052",
   "metadata": {},
   "outputs": [],
   "source": [
    "# %load myModule.py\n",
    "# a module can have function, classes, variables.\n",
    "# a module have another module in it.\n",
    "def add(num1, num2):\n",
    "\n",
    "    \"\"\" DOCSTRING:\n",
    "    add(value1, value2)\n",
    "\n",
    "    sums the values.\n",
    "    return and numerical value incase of integers are supplied\n",
    "    return string value in case of string are supplied \"\"\"\n",
    "\n",
    "    return\n",
    "    num1 + num2\n",
    "\n",
    "def circumference(radius):\n",
    "    return (2*3.143*radius)\n"
   ]
  },
  {
   "cell_type": "code",
   "execution_count": 7,
   "id": "dd7ac965",
   "metadata": {},
   "outputs": [],
   "source": [
    "%run myModule.py"
   ]
  },
  {
   "cell_type": "code",
   "execution_count": 8,
   "id": "9421b010",
   "metadata": {},
   "outputs": [
    {
     "data": {
      "text/plain": [
       "62.86"
      ]
     },
     "execution_count": 8,
     "metadata": {},
     "output_type": "execute_result"
    }
   ],
   "source": [
    "myModule.circumference(10)"
   ]
  },
  {
   "cell_type": "markdown",
   "id": "6ca0be05",
   "metadata": {},
   "source": [
    "## To access any function from the module:\n",
    "- We can access any function with its name, instead of importing whole module"
   ]
  },
  {
   "cell_type": "code",
   "execution_count": 9,
   "id": "a871bf90",
   "metadata": {},
   "outputs": [],
   "source": [
    "from myModule import circumference"
   ]
  },
  {
   "cell_type": "code",
   "execution_count": 10,
   "id": "d3f9bf7b",
   "metadata": {
    "scrolled": true
   },
   "outputs": [
    {
     "data": {
      "text/plain": [
       "75.43199999999999"
      ]
     },
     "execution_count": 10,
     "metadata": {},
     "output_type": "execute_result"
    }
   ],
   "source": [
    "circumference(12)"
   ]
  },
  {
   "cell_type": "markdown",
   "id": "b4e1277b",
   "metadata": {},
   "source": [
    "# Object Oriented Programming"
   ]
  },
  {
   "cell_type": "markdown",
   "id": "8f9bd7bd",
   "metadata": {},
   "source": [
    "- Object\n",
    "- Classes\n",
    "- Pillars of OOPs\n",
    "- Methods\n",
    "- Attributes\n",
    "- "
   ]
  },
  {
   "cell_type": "raw",
   "id": "7fbfe22b",
   "metadata": {},
   "source": [
    "# What is OOP?\n",
    "Ans: It is a programming paradigm/style that allows us to bind data and methods together."
   ]
  },
  {
   "cell_type": "raw",
   "id": "066dade2",
   "metadata": {},
   "source": [
    "Object: everything in python is object.\n",
    "        - Every object belongs to a class."
   ]
  },
  {
   "cell_type": "raw",
   "id": "2b9af18a",
   "metadata": {},
   "source": [
    "1st Samsung Galaxy S7 designed and developed in lab and launched in a ceremony: Class\n",
    "    copies: objects / instance\n",
    "    every object will be same."
   ]
  },
  {
   "cell_type": "markdown",
   "id": "0a41085a",
   "metadata": {},
   "source": [
    "## While creating class:\n",
    "- name start from capital\n",
    "- it can work without (), but very good idea to use (). "
   ]
  },
  {
   "cell_type": "code",
   "execution_count": 11,
   "id": "bf38a694",
   "metadata": {},
   "outputs": [],
   "source": [
    "class SamSungGalaxyS7:\n",
    "    # Attributes/Characteristics > basically variables\n",
    "    # Class level attributes\n",
    "    ram = \"4GB\"\n",
    "    weight = \"120g\"\n",
    "    color = \"grey\"\n",
    "    processor = \"4Core\"\n",
    "    camera = \"6mpx\"\n",
    "    battery = \"12amp\"\n",
    "    screen = \"6*4\"\n",
    "    # instance level attribute\n",
    "    color = \"Grey\" #(This attribute should be in init method to be dynamic value)\n",
    "    \n",
    "    # Behaviours/Actions > basically functions     # function inside class >> methods\n",
    "    def makeCall(self):\n",
    "        print(\"Calling\")\n",
    "    def recvCall(self):\n",
    "        print(\"Call Receiving\")\n",
    "    def decCall(self):\n",
    "        print(\"Decline Call\")\n",
    "    def takePic(self):\n",
    "        print(\"Smile Please\")\n",
    "    def sendTxt(self, msg):\n",
    "        print(msg)"
   ]
  },
  {
   "cell_type": "markdown",
   "id": "2109398b",
   "metadata": {},
   "source": [
    "## Creating copies of my phone (objects)"
   ]
  },
  {
   "cell_type": "code",
   "execution_count": null,
   "id": "028ac16d",
   "metadata": {},
   "outputs": [],
   "source": [
    "apkaSamsung = SamSungGalaxyS7()"
   ]
  },
  {
   "cell_type": "code",
   "execution_count": null,
   "id": "72743722",
   "metadata": {},
   "outputs": [],
   "source": [
    "apkaSamsung.ram"
   ]
  },
  {
   "cell_type": "code",
   "execution_count": null,
   "id": "b887eeb4",
   "metadata": {},
   "outputs": [],
   "source": [
    "apkaSamsung.color"
   ]
  },
  {
   "cell_type": "code",
   "execution_count": null,
   "id": "64475b04",
   "metadata": {},
   "outputs": [],
   "source": [
    "apkaSamsung.makeCall()"
   ]
  },
  {
   "cell_type": "code",
   "execution_count": null,
   "id": "fb34cb41",
   "metadata": {
    "scrolled": true
   },
   "outputs": [],
   "source": [
    "apkaSamsung.sendTxt(\"Kahan ho?, Bahut dair ho gai hy\")"
   ]
  },
  {
   "cell_type": "markdown",
   "id": "1cfd4eed",
   "metadata": {},
   "source": [
    "### Creating many objects from one class:"
   ]
  },
  {
   "cell_type": "code",
   "execution_count": null,
   "id": "90ad418c",
   "metadata": {},
   "outputs": [],
   "source": [
    "meraSamsung = SamSungGalaxyS7()"
   ]
  },
  {
   "cell_type": "code",
   "execution_count": null,
   "id": "5214ae2e",
   "metadata": {},
   "outputs": [],
   "source": [
    "tumharaSamsung = SamSungGalaxyS7()"
   ]
  },
  {
   "cell_type": "code",
   "execution_count": null,
   "id": "4f5d0e69",
   "metadata": {},
   "outputs": [],
   "source": [
    "meraSamsung.processor"
   ]
  },
  {
   "cell_type": "code",
   "execution_count": null,
   "id": "6f283d1b",
   "metadata": {
    "scrolled": true
   },
   "outputs": [],
   "source": [
    "tumharaSamsung.screen"
   ]
  },
  {
   "cell_type": "markdown",
   "id": "0dc97836",
   "metadata": {},
   "source": [
    "#### Every object has everything that is inside its class"
   ]
  },
  {
   "cell_type": "markdown",
   "id": "cc1ab178",
   "metadata": {},
   "source": [
    "# Patient Card"
   ]
  },
  {
   "cell_type": "code",
   "execution_count": 26,
   "id": "7e24c4af",
   "metadata": {},
   "outputs": [],
   "source": [
    "class Patient():\n",
    "    # some attributes values are same for every obj. (class or cladd level attribute)\n",
    "    # attributes here will be available to every object.\n",
    "    address = \"Lahore\"\n",
    "    \n",
    "    # some attributes values are different for every obj (obeject/instance attribute)\n",
    "    def __init__(self, p_id, name, age, gender, disease, contact):\n",
    "        ###### instance level / object level attributes\n",
    "        #initializer (constructor)\n",
    "        self.p_id = p_id\n",
    "        self.name = name\n",
    "        self.age = age\n",
    "        self.gender = gender\n",
    "        self.disease = disease\n",
    "        self.contact = contact\n",
    "    def admission(self):\n",
    "        print(f'{self.name} is admitted in disease {self.disease}')\n",
    "    def treatment(self):\n",
    "        print(f'{self.name} is being treated and his age is {self.age}')\n",
    "    def discharge(self, bill):\n",
    "        if bill == True:\n",
    "            print(f'{self.name} is being discharges')\n",
    "        else:\n",
    "            print('please clear your due before leaving')\n",
    "    def patientProfile(self):\n",
    "        print(f\"\"\"\n",
    "                DHQ Hospital DIK\n",
    "                _________________\n",
    "                \n",
    "                   PATIENT CARD\n",
    "                _________________\n",
    "                \n",
    "                Patient ID:  {self.p_id}\n",
    "                Name:        {self.name}\n",
    "                Age:         {self.age}\n",
    "                Disease:     {self.disease}\n",
    "                Contact:     {self.contact}\n",
    "                Address:     {self.address}\n",
    "        \"\"\")"
   ]
  },
  {
   "cell_type": "code",
   "execution_count": null,
   "id": "cfc74a11",
   "metadata": {},
   "outputs": [],
   "source": []
  },
  {
   "cell_type": "markdown",
   "id": "0e9c1748",
   "metadata": {},
   "source": [
    "### p1, p2, p3... in the below example is object"
   ]
  },
  {
   "cell_type": "code",
   "execution_count": 30,
   "id": "42654f23",
   "metadata": {
    "scrolled": true
   },
   "outputs": [],
   "source": [
    "p1 = Patient(111, \"Ahmad\", 50, \"M\", \"diabetes\", \"12345\")"
   ]
  },
  {
   "cell_type": "code",
   "execution_count": 31,
   "id": "68ecaa8d",
   "metadata": {},
   "outputs": [],
   "source": [
    "p2 = Patient(222, \"Sana\", 60, \"F\", \"fever\", \"6789\")"
   ]
  },
  {
   "cell_type": "code",
   "execution_count": 15,
   "id": "7adf5246",
   "metadata": {},
   "outputs": [
    {
     "data": {
      "text/plain": [
       "'Ahmad'"
      ]
     },
     "execution_count": 15,
     "metadata": {},
     "output_type": "execute_result"
    }
   ],
   "source": [
    "p1.name"
   ]
  },
  {
   "cell_type": "code",
   "execution_count": 16,
   "id": "4e6e66e9",
   "metadata": {
    "scrolled": true
   },
   "outputs": [
    {
     "data": {
      "text/plain": [
       "'Sana'"
      ]
     },
     "execution_count": 16,
     "metadata": {},
     "output_type": "execute_result"
    }
   ],
   "source": [
    "p2.name"
   ]
  },
  {
   "cell_type": "markdown",
   "id": "a5526535",
   "metadata": {},
   "source": [
    "## Why we use 'def name(self)' in class?"
   ]
  },
  {
   "cell_type": "code",
   "execution_count": 17,
   "id": "bc992533",
   "metadata": {
    "scrolled": true
   },
   "outputs": [
    {
     "ename": "TypeError",
     "evalue": "__init__() takes 7 positional arguments but 8 were given",
     "output_type": "error",
     "traceback": [
      "\u001b[1;31m---------------------------------------------------------------------------\u001b[0m",
      "\u001b[1;31mTypeError\u001b[0m                                 Traceback (most recent call last)",
      "Input \u001b[1;32mIn [17]\u001b[0m, in \u001b[0;36m<cell line: 1>\u001b[1;34m()\u001b[0m\n\u001b[1;32m----> 1\u001b[0m p3 \u001b[38;5;241m=\u001b[39m \u001b[43mPatient\u001b[49m\u001b[43m(\u001b[49m\u001b[38;5;241;43m222\u001b[39;49m\u001b[43m,\u001b[49m\u001b[43m \u001b[49m\u001b[38;5;124;43m\"\u001b[39;49m\u001b[38;5;124;43mSana\u001b[39;49m\u001b[38;5;124;43m\"\u001b[39;49m\u001b[43m,\u001b[49m\u001b[43m \u001b[49m\u001b[38;5;241;43m60\u001b[39;49m\u001b[43m,\u001b[49m\u001b[43m \u001b[49m\u001b[38;5;124;43m\"\u001b[39;49m\u001b[38;5;124;43mF\u001b[39;49m\u001b[38;5;124;43m\"\u001b[39;49m\u001b[43m,\u001b[49m\u001b[43m \u001b[49m\u001b[38;5;124;43m\"\u001b[39;49m\u001b[38;5;124;43mfever\u001b[39;49m\u001b[38;5;124;43m\"\u001b[39;49m\u001b[43m,\u001b[49m\u001b[43m \u001b[49m\u001b[38;5;124;43m\"\u001b[39;49m\u001b[38;5;124;43m6789\u001b[39;49m\u001b[38;5;124;43m\"\u001b[39;49m\u001b[43m,\u001b[49m\u001b[43m \u001b[49m\u001b[38;5;124;43m\"\u001b[39;49m\u001b[38;5;124;43m1111\u001b[39;49m\u001b[38;5;124;43m\"\u001b[39;49m\u001b[43m)\u001b[49m\n",
      "\u001b[1;31mTypeError\u001b[0m: __init__() takes 7 positional arguments but 8 were given"
     ]
    }
   ],
   "source": [
    "p3 = Patient(222, \"Sana\", 60, \"F\", \"fever\", \"6789\", \"1111\")"
   ]
  },
  {
   "cell_type": "markdown",
   "id": "e82ba9aa",
   "metadata": {},
   "source": [
    "In the above example, we provided 7 positional arguments but it says were given 8. This is because in def<attribute.name>(self) is used for object automatically.\n",
    "- You can keep any name, but it will be 1st positional argument\n",
    "- But 'self' is used mostly.\n",
    "- we will start our counting from 2nd positional argument"
   ]
  },
  {
   "cell_type": "code",
   "execution_count": 18,
   "id": "931c3580",
   "metadata": {
    "scrolled": false
   },
   "outputs": [
    {
     "ename": "TypeError",
     "evalue": "__init__() missing 1 required positional argument: 'contact'",
     "output_type": "error",
     "traceback": [
      "\u001b[1;31m---------------------------------------------------------------------------\u001b[0m",
      "\u001b[1;31mTypeError\u001b[0m                                 Traceback (most recent call last)",
      "Input \u001b[1;32mIn [18]\u001b[0m, in \u001b[0;36m<cell line: 1>\u001b[1;34m()\u001b[0m\n\u001b[1;32m----> 1\u001b[0m p3 \u001b[38;5;241m=\u001b[39m \u001b[43mPatient\u001b[49m\u001b[43m(\u001b[49m\u001b[38;5;241;43m222\u001b[39;49m\u001b[43m,\u001b[49m\u001b[43m \u001b[49m\u001b[38;5;124;43m\"\u001b[39;49m\u001b[38;5;124;43mSana\u001b[39;49m\u001b[38;5;124;43m\"\u001b[39;49m\u001b[43m,\u001b[49m\u001b[43m \u001b[49m\u001b[38;5;241;43m60\u001b[39;49m\u001b[43m,\u001b[49m\u001b[43m \u001b[49m\u001b[38;5;124;43m\"\u001b[39;49m\u001b[38;5;124;43mF\u001b[39;49m\u001b[38;5;124;43m\"\u001b[39;49m\u001b[43m,\u001b[49m\u001b[43m \u001b[49m\u001b[38;5;124;43m\"\u001b[39;49m\u001b[38;5;124;43mfever\u001b[39;49m\u001b[38;5;124;43m\"\u001b[39;49m\u001b[43m)\u001b[49m\n",
      "\u001b[1;31mTypeError\u001b[0m: __init__() missing 1 required positional argument: 'contact'"
     ]
    }
   ],
   "source": [
    "p3 = Patient(222, \"Sana\", 60, \"F\", \"fever\")"
   ]
  },
  {
   "cell_type": "markdown",
   "id": "872a15e4",
   "metadata": {},
   "source": [
    "<b> If we provide less arguments, it will not initialize.</b>"
   ]
  },
  {
   "cell_type": "markdown",
   "id": "de574d29",
   "metadata": {},
   "source": [
    "For class level attributes, we directly get data:"
   ]
  },
  {
   "cell_type": "code",
   "execution_count": 19,
   "id": "40fa72ea",
   "metadata": {
    "scrolled": true
   },
   "outputs": [
    {
     "data": {
      "text/plain": [
       "'Lahore'"
      ]
     },
     "execution_count": 19,
     "metadata": {},
     "output_type": "execute_result"
    }
   ],
   "source": [
    "Patient.address"
   ]
  },
  {
   "cell_type": "markdown",
   "id": "5109585e",
   "metadata": {},
   "source": [
    "We can update class level attribute for every Patient in this case:"
   ]
  },
  {
   "cell_type": "code",
   "execution_count": 20,
   "id": "ac88bcc7",
   "metadata": {},
   "outputs": [
    {
     "data": {
      "text/plain": [
       "'Lahore'"
      ]
     },
     "execution_count": 20,
     "metadata": {},
     "output_type": "execute_result"
    }
   ],
   "source": [
    "p1.address"
   ]
  },
  {
   "cell_type": "code",
   "execution_count": 21,
   "id": "b3543b3c",
   "metadata": {},
   "outputs": [],
   "source": [
    "# here we update the class level attribute for p2.\n",
    "p2.address = 'Karachi'"
   ]
  },
  {
   "cell_type": "code",
   "execution_count": 22,
   "id": "77e298cf",
   "metadata": {},
   "outputs": [
    {
     "data": {
      "text/plain": [
       "'Karachi'"
      ]
     },
     "execution_count": 22,
     "metadata": {},
     "output_type": "execute_result"
    }
   ],
   "source": [
    "p2.address"
   ]
  },
  {
   "cell_type": "code",
   "execution_count": 23,
   "id": "1b64b4e6",
   "metadata": {},
   "outputs": [
    {
     "name": "stdout",
     "output_type": "stream",
     "text": [
      "Sana is being treated and his age is 60\n"
     ]
    }
   ],
   "source": [
    "p2.treatment()"
   ]
  },
  {
   "cell_type": "code",
   "execution_count": 24,
   "id": "aead8e32",
   "metadata": {},
   "outputs": [
    {
     "name": "stdout",
     "output_type": "stream",
     "text": [
      "Ahmad is admitted in disease diabetes\n"
     ]
    }
   ],
   "source": [
    "p1.admission()"
   ]
  },
  {
   "cell_type": "code",
   "execution_count": 27,
   "id": "b92b611f",
   "metadata": {},
   "outputs": [],
   "source": [
    "p4 = Patient(444, \"Salamat Khan\", 75, \"Male\", \"Typhoid\", \"111-222-333\")"
   ]
  },
  {
   "cell_type": "code",
   "execution_count": 9,
   "id": "62f9bfd9",
   "metadata": {
    "scrolled": true
   },
   "outputs": [
    {
     "name": "stdout",
     "output_type": "stream",
     "text": [
      "please clear your due before leaving\n"
     ]
    }
   ],
   "source": [
    "p1.discharge(False)"
   ]
  },
  {
   "cell_type": "code",
   "execution_count": 28,
   "id": "2c6086ed",
   "metadata": {
    "scrolled": true
   },
   "outputs": [
    {
     "name": "stdout",
     "output_type": "stream",
     "text": [
      "\n",
      "                DHQ Hospital DIK\n",
      "                _________________\n",
      "                \n",
      "                   PATIENT CARD\n",
      "                _________________\n",
      "                \n",
      "                Patient ID:  444\n",
      "                Name:        Salamat Khan\n",
      "                Age:         75\n",
      "                Disease:     Typhoid\n",
      "                Contact:     111-222-333\n",
      "                Address:     Lahore\n",
      "        \n"
     ]
    }
   ],
   "source": [
    "p4.patientProfile()"
   ]
  },
  {
   "cell_type": "code",
   "execution_count": 32,
   "id": "4d3a45cf",
   "metadata": {
    "scrolled": true
   },
   "outputs": [
    {
     "name": "stdout",
     "output_type": "stream",
     "text": [
      "\n",
      "                DHQ Hospital DIK\n",
      "                _________________\n",
      "                \n",
      "                   PATIENT CARD\n",
      "                _________________\n",
      "                \n",
      "                Patient ID:  222\n",
      "                Name:        Sana\n",
      "                Age:         60\n",
      "                Disease:     fever\n",
      "                Contact:     6789\n",
      "                Address:     Lahore\n",
      "        \n"
     ]
    }
   ],
   "source": [
    "p2.patientProfile()"
   ]
  },
  {
   "cell_type": "code",
   "execution_count": 33,
   "id": "d798f64a",
   "metadata": {
    "scrolled": true
   },
   "outputs": [
    {
     "name": "stdout",
     "output_type": "stream",
     "text": [
      "\n",
      "                DHQ Hospital DIK\n",
      "                _________________\n",
      "                \n",
      "                   PATIENT CARD\n",
      "                _________________\n",
      "                \n",
      "                Patient ID:  111\n",
      "                Name:        Ahmad\n",
      "                Age:         50\n",
      "                Disease:     diabetes\n",
      "                Contact:     12345\n",
      "                Address:     Lahore\n",
      "        \n"
     ]
    }
   ],
   "source": [
    "p1.patientProfile()"
   ]
  },
  {
   "cell_type": "markdown",
   "id": "d5b765e0",
   "metadata": {},
   "source": [
    "## Mobile class redefined:\n",
    "\n",
    "- here we used:\n",
    "\n",
    "> instance level attribute i.e color in mobile class\n",
    "\n",
    "\n",
    "> arbitrary argument i.e otherdisease in patient card"
   ]
  },
  {
   "cell_type": "code",
   "execution_count": 39,
   "id": "ea0f57ef",
   "metadata": {},
   "outputs": [],
   "source": [
    "class SamSungGalaxyS7:\n",
    "    # Attributes/Characteristics > basically variables\n",
    "    # Class level attributes\n",
    "    ram = \"4GB\"\n",
    "    weight = \"120g\"\n",
    "    color = \"grey\"\n",
    "    processor = \"4Core\"\n",
    "    camera = \"6mpx\"\n",
    "    battery = \"12amp\"\n",
    "    screen = \"6*4\"\n",
    "    \n",
    "    # instance level attribute\n",
    "    def __init__ (self, color):\n",
    "        self.color = color\n",
    "    \n",
    "    # Behaviours/Actions > basically functions     # function inside class >> methods\n",
    "    def makeCall(self):\n",
    "        print(\"Calling\")\n",
    "    def recvCall(self):\n",
    "        print(\"Call Receiving\")\n",
    "    def decCall(self):\n",
    "        print(\"Decline Call\")\n",
    "    def takePic(self):\n",
    "        print(\"Smile Please\")\n",
    "    def sendTxt(self, msg):\n",
    "        print(msg)"
   ]
  },
  {
   "cell_type": "code",
   "execution_count": 42,
   "id": "27f8a413",
   "metadata": {},
   "outputs": [],
   "source": [
    "s1 = SamSungGalaxyS7(\"Grey\") # there should be value here, not attribute name"
   ]
  },
  {
   "cell_type": "code",
   "execution_count": 43,
   "id": "0a5d8b63",
   "metadata": {},
   "outputs": [],
   "source": [
    "s2 = SamSungGalaxyS7(\"Black\")"
   ]
  },
  {
   "cell_type": "code",
   "execution_count": 44,
   "id": "df59e702",
   "metadata": {},
   "outputs": [],
   "source": [
    "class Patient():\n",
    "    # some attributes values are same for every obj. (class or cladd level attribute)\n",
    "    # attributes here will be available to every object.\n",
    "    address = \"Lahore\"\n",
    "    \n",
    "    # some attributes values are different for every obj (obeject/instance attribute)\n",
    "    def __init__(self, p_id, name, age, gender, disease, contact, *other_disease):\n",
    "        ###### instance level / object level attributes\n",
    "        #initializer (constructor)\n",
    "        self.p_id = p_id\n",
    "        self.name = name\n",
    "        self.age = age\n",
    "        self.gender = gender\n",
    "        self.disease = disease\n",
    "        self.contact = contact\n",
    "        self.other_disease = other_disease\n",
    "    def admission(self):\n",
    "        print(f'{self.name} is admitted in disease {self.disease}')\n",
    "    def treatment(self):\n",
    "        print(f'{self.name} is being treated and his age is {self.age}')\n",
    "    def discharge(self, bill):\n",
    "        if bill == True:\n",
    "            print(f'{self.name} is being discharges')\n",
    "        else:\n",
    "            print('please clear your due before leaving')\n",
    "    def patientProfile(self):\n",
    "        print(f\"\"\"\n",
    "                DHQ Hospital DIK\n",
    "                _________________\n",
    "                \n",
    "                   PATIENT CARD\n",
    "                _________________\n",
    "                \n",
    "                Patient ID:        {self.p_id}\n",
    "                Name:              {self.name}\n",
    "                Age:               {self.age}\n",
    "                Disease:           {self.disease}\n",
    "                Other Disease:     {self.other_disease}\n",
    "                Contact:           {self.contact}\n",
    "                Address:           {self.address}\n",
    "        \"\"\")"
   ]
  },
  {
   "cell_type": "code",
   "execution_count": 45,
   "id": "96fe6c56",
   "metadata": {},
   "outputs": [],
   "source": [
    "p5 = Patient(444, \"Salamat Khan\", 75, \"Male\", \"Typhoid\", \"111-222-333\", \"Cholera\", \"Cough\", \"Back-Pain\")"
   ]
  },
  {
   "cell_type": "code",
   "execution_count": 46,
   "id": "a41cd54b",
   "metadata": {},
   "outputs": [
    {
     "name": "stdout",
     "output_type": "stream",
     "text": [
      "\n",
      "                DHQ Hospital DIK\n",
      "                _________________\n",
      "                \n",
      "                   PATIENT CARD\n",
      "                _________________\n",
      "                \n",
      "                Patient ID:        444\n",
      "                Name:              Salamat Khan\n",
      "                Age:               75\n",
      "                Disease:           Typhoid\n",
      "                Other Disease:     ('Cholera', 'Cough', 'Back-Pain')\n",
      "                Contact:           111-222-333\n",
      "                Address:           Lahore\n",
      "        \n"
     ]
    }
   ],
   "source": [
    "p5.patientProfile()"
   ]
  }
 ],
 "metadata": {
  "kernelspec": {
   "display_name": "Python 3 (ipykernel)",
   "language": "python",
   "name": "python3"
  },
  "language_info": {
   "codemirror_mode": {
    "name": "ipython",
    "version": 3
   },
   "file_extension": ".py",
   "mimetype": "text/x-python",
   "name": "python",
   "nbconvert_exporter": "python",
   "pygments_lexer": "ipython3",
   "version": "3.9.12"
  }
 },
 "nbformat": 4,
 "nbformat_minor": 5
}
