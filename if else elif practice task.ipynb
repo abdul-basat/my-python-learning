{
 "cells": [
  {
   "cell_type": "markdown",
   "metadata": {},
   "source": [
    "1. A company decided to give bonus of 5% to employee if his/her year of service is more than 5 years. \n",
    "Ask userfor their salary and year of service and print the net bonus amount."
   ]
  },
  {
   "cell_type": "code",
   "execution_count": 19,
   "metadata": {},
   "outputs": [
    {
     "name": "stdout",
     "output_type": "stream",
     "text": [
      "Bonus Amount: 700.0\n",
      "Net Salary:  14700.0\n"
     ]
    }
   ],
   "source": [
    "salary = int(input('Enter your Salary: '))\n",
    "service = int(input('service in years : '))\n",
    "bonus = salary * .05\n",
    "net = salary + bonus\n",
    "if service >= 5:\n",
    "    print(f\"Bonus Amount: {bonus}\")\n",
    "    print('Net Salary: ', net)\n",
    "else:\n",
    "    print('You are not eligible for Bonus')\n"
   ]
  },
  {
   "cell_type": "markdown",
   "metadata": {},
   "source": [
    "2. Write a program to check whether a person is eligible for voting or not (Accept age from user)"
   ]
  },
  {
   "cell_type": "code",
   "execution_count": 25,
   "metadata": {},
   "outputs": [
    {
     "ename": "SyntaxError",
     "evalue": "invalid syntax (3829569945.py, line 2)",
     "output_type": "error",
     "traceback": [
      "\u001b[1;36m  Input \u001b[1;32mIn [25]\u001b[1;36m\u001b[0m\n\u001b[1;33m    if age >= 18 and < 65:\u001b[0m\n\u001b[1;37m                     ^\u001b[0m\n\u001b[1;31mSyntaxError\u001b[0m\u001b[1;31m:\u001b[0m invalid syntax\n"
     ]
    }
   ],
   "source": [
    "age = int(input('Enter your age: '))\n",
    "if age >= 18:\n",
    "    print('You are eligible')\n",
    "else:\n",
    "    print('You are not eligible')"
   ]
  },
  {
   "cell_type": "markdown",
   "metadata": {},
   "source": [
    "3. write program to check whether a number is divisble by 7 or not?"
   ]
  },
  {
   "cell_type": "code",
   "execution_count": null,
   "metadata": {},
   "outputs": [],
   "source": [
    "number = int(input('Enter the number: '))\n",
    "if number"
   ]
  },
  {
   "cell_type": "markdown",
   "metadata": {},
   "source": []
  }
 ],
 "metadata": {
  "kernelspec": {
   "display_name": "Python 3 (ipykernel)",
   "language": "python",
   "name": "python3"
  },
  "language_info": {
   "codemirror_mode": {
    "name": "ipython",
    "version": 3
   },
   "file_extension": ".py",
   "mimetype": "text/x-python",
   "name": "python",
   "nbconvert_exporter": "python",
   "pygments_lexer": "ipython3",
   "version": "3.9.12"
  },
  "vscode": {
   "interpreter": {
    "hash": "ad2bdc8ecc057115af97d19610ffacc2b4e99fae6737bb82f5d7fb13d2f2c186"
   }
  }
 },
 "nbformat": 4,
 "nbformat_minor": 2
}
