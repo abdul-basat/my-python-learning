{
 "cells": [
  {
   "cell_type": "markdown",
   "id": "f3a869d3",
   "metadata": {},
   "source": [
    "# # Hollow  Square Pattern"
   ]
  },
  {
   "cell_type": "code",
   "execution_count": 29,
   "id": "19ac9092",
   "metadata": {},
   "outputs": [
    {
     "name": "stdout",
     "output_type": "stream",
     "text": [
      "* * * * * * * * \n",
      "*             * \n",
      "*             * \n",
      "*             * \n",
      "*             * \n",
      "*             * \n",
      "*             * \n",
      "* * * * * * * * \n"
     ]
    }
   ],
   "source": [
    "size = 8\n",
    "for i in range(size):\n",
    "    for j in range(size):\n",
    "        if (i == 0) or i == (size - 1) or (j == 0) or (j == size - 1):\n",
    "            print('*', end=' ')\n",
    "        else:\n",
    "            print(' ', end=' ')\n",
    "    print()"
   ]
  },
  {
   "cell_type": "markdown",
   "id": "19fe7686",
   "metadata": {},
   "source": [
    "# # Square Pattern"
   ]
  },
  {
   "cell_type": "code",
   "execution_count": 30,
   "id": "da745d2d",
   "metadata": {
    "scrolled": false
   },
   "outputs": [
    {
     "name": "stdout",
     "output_type": "stream",
     "text": [
      "* * * * * \n",
      "* * * * * \n",
      "* * * * * \n",
      "* * * * * \n",
      "* * * * * \n"
     ]
    }
   ],
   "source": [
    "for i in range(0 , 5):\n",
    "    for j in range(0 , 5):\n",
    "        print('*', end=' ')\n",
    "    print()"
   ]
  },
  {
   "cell_type": "markdown",
   "id": "59fed50a",
   "metadata": {},
   "source": [
    "## Input from user"
   ]
  },
  {
   "cell_type": "code",
   "execution_count": 32,
   "id": "6d115230",
   "metadata": {
    "scrolled": true
   },
   "outputs": [
    {
     "name": "stdout",
     "output_type": "stream",
     "text": [
      "Enter the rows: 4\n",
      "Enter the cols: 4\n",
      "* * * * \n",
      "*     * \n",
      "*     * \n",
      "* * * * \n"
     ]
    }
   ],
   "source": [
    "rows = int(input('Enter the rows: '))\n",
    "cols = int(input('Enter the cols: '))\n",
    "\n",
    "for i in range (rows):\n",
    "    for j in range(cols):\n",
    "        if (i==0 or i==(rows-1) or j==0 or j==(cols-1)):\n",
    "            print('*', end=' ')\n",
    "        else:\n",
    "            print(' ', end=' ')\n",
    "    print()"
   ]
  },
  {
   "cell_type": "code",
   "execution_count": 36,
   "id": "1c99ac2e",
   "metadata": {},
   "outputs": [
    {
     "name": "stdout",
     "output_type": "stream",
     "text": [
      "* * * * * \n",
      "*       * \n",
      "*       * \n",
      "* * * * * \n",
      "*       * \n",
      "*       * \n",
      "*       * \n"
     ]
    }
   ],
   "source": [
    "for row in range(7):\n",
    "    for col in range(5):\n",
    "        if ((col==0 or col==4) and row!=0) or (row==0 or row==3):\n",
    "            print('*', end=\" \")\n",
    "        else:\n",
    "            print(end=\"  \")\n",
    "    print()"
   ]
  },
  {
   "cell_type": "code",
   "execution_count": 37,
   "id": "2832d235",
   "metadata": {},
   "outputs": [
    {
     "name": "stdout",
     "output_type": "stream",
     "text": [
      "  * * *   \n",
      "*       * \n",
      "*       * \n",
      "* * * * * \n",
      "*       * \n",
      "*       * \n",
      "*       * \n"
     ]
    }
   ],
   "source": [
    "# anothe beautiful method:\n",
    "for row in range(7):\n",
    "    for col in range(5):\n",
    "        if ((col==0 or col==4) and row!=0) or (row==0 or row==3) and (col<4 and col>0):\n",
    "            print('*', end=\" \")\n",
    "        else:\n",
    "            print(end=\"  \")\n",
    "    print()"
   ]
  },
  {
   "cell_type": "code",
   "execution_count": 38,
   "id": "9c434add",
   "metadata": {},
   "outputs": [
    {
     "ename": "TurtleGraphicsError",
     "evalue": "bad color sequence: (7, 0.0, 0.0)",
     "output_type": "error",
     "traceback": [
      "\u001b[1;31m---------------------------------------------------------------------------\u001b[0m",
      "\u001b[1;31mTurtleGraphicsError\u001b[0m                       Traceback (most recent call last)",
      "Input \u001b[1;32mIn [38]\u001b[0m, in \u001b[0;36m<cell line: 24>\u001b[1;34m()\u001b[0m\n\u001b[0;32m     21\u001b[0m         tt\u001b[38;5;241m.\u001b[39mfd(\u001b[38;5;241m48\u001b[39m)\n\u001b[0;32m     22\u001b[0m         tt\u001b[38;5;241m.\u001b[39mbk(\u001b[38;5;241m34\u001b[39m)\n\u001b[1;32m---> 24\u001b[0m \u001b[43mdes\u001b[49m\u001b[43m(\u001b[49m\u001b[43m)\u001b[49m\n\u001b[0;32m     25\u001b[0m \u001b[38;5;28;01mfor\u001b[39;00m i \u001b[38;5;129;01min\u001b[39;00m \u001b[38;5;28mrange\u001b[39m(\u001b[38;5;241m22\u001b[39m):\n\u001b[0;32m     26\u001b[0m     des()\n",
      "Input \u001b[1;32mIn [38]\u001b[0m, in \u001b[0;36mdes\u001b[1;34m()\u001b[0m\n\u001b[0;32m     14\u001b[0m c\u001b[38;5;241m=\u001b[39mcolorsys\u001b[38;5;241m.\u001b[39mhsv_to_rgb(h,\u001b[38;5;241m1\u001b[39m,\u001b[38;5;241m7\u001b[39m)\n\u001b[0;32m     15\u001b[0m h\u001b[38;5;241m+\u001b[39m\u001b[38;5;241m=\u001b[39m\u001b[38;5;241m1\u001b[39m\u001b[38;5;241m/\u001b[39mn\n\u001b[1;32m---> 16\u001b[0m \u001b[43mtt\u001b[49m\u001b[38;5;241;43m.\u001b[39;49m\u001b[43mpencolor\u001b[49m\u001b[43m(\u001b[49m\u001b[43mc\u001b[49m\u001b[43m)\u001b[49m\n\u001b[0;32m     17\u001b[0m tt\u001b[38;5;241m.\u001b[39mrt(\u001b[38;5;241m1\u001b[39m)\n\u001b[0;32m     18\u001b[0m tt\u001b[38;5;241m.\u001b[39mfd(\u001b[38;5;241m34\u001b[39m)\n",
      "File \u001b[1;32m<string>:8\u001b[0m, in \u001b[0;36mpencolor\u001b[1;34m(*args)\u001b[0m\n",
      "File \u001b[1;32mC:\\ProgramData\\Anaconda3\\lib\\turtle.py:2253\u001b[0m, in \u001b[0;36mTPen.pencolor\u001b[1;34m(self, *args)\u001b[0m\n\u001b[0;32m   2224\u001b[0m \u001b[38;5;124;03m\"\"\" Return or set the pencolor.\u001b[39;00m\n\u001b[0;32m   2225\u001b[0m \n\u001b[0;32m   2226\u001b[0m \u001b[38;5;124;03mArguments:\u001b[39;00m\n\u001b[1;32m   (...)\u001b[0m\n\u001b[0;32m   2250\u001b[0m \u001b[38;5;124;03m'#33cc8c'\u001b[39;00m\n\u001b[0;32m   2251\u001b[0m \u001b[38;5;124;03m\"\"\"\u001b[39;00m\n\u001b[0;32m   2252\u001b[0m \u001b[38;5;28;01mif\u001b[39;00m args:\n\u001b[1;32m-> 2253\u001b[0m     color \u001b[38;5;241m=\u001b[39m \u001b[38;5;28;43mself\u001b[39;49m\u001b[38;5;241;43m.\u001b[39;49m\u001b[43m_colorstr\u001b[49m\u001b[43m(\u001b[49m\u001b[43margs\u001b[49m\u001b[43m)\u001b[49m\n\u001b[0;32m   2254\u001b[0m     \u001b[38;5;28;01mif\u001b[39;00m color \u001b[38;5;241m==\u001b[39m \u001b[38;5;28mself\u001b[39m\u001b[38;5;241m.\u001b[39m_pencolor:\n\u001b[0;32m   2255\u001b[0m         \u001b[38;5;28;01mreturn\u001b[39;00m\n",
      "File \u001b[1;32mC:\\ProgramData\\Anaconda3\\lib\\turtle.py:2697\u001b[0m, in \u001b[0;36mRawTurtle._colorstr\u001b[1;34m(self, args)\u001b[0m\n\u001b[0;32m   2696\u001b[0m \u001b[38;5;28;01mdef\u001b[39;00m \u001b[38;5;21m_colorstr\u001b[39m(\u001b[38;5;28mself\u001b[39m, args):\n\u001b[1;32m-> 2697\u001b[0m     \u001b[38;5;28;01mreturn\u001b[39;00m \u001b[38;5;28;43mself\u001b[39;49m\u001b[38;5;241;43m.\u001b[39;49m\u001b[43mscreen\u001b[49m\u001b[38;5;241;43m.\u001b[39;49m\u001b[43m_colorstr\u001b[49m\u001b[43m(\u001b[49m\u001b[43margs\u001b[49m\u001b[43m)\u001b[49m\n",
      "File \u001b[1;32mC:\\ProgramData\\Anaconda3\\lib\\turtle.py:1167\u001b[0m, in \u001b[0;36mTurtleScreen._colorstr\u001b[1;34m(self, color)\u001b[0m\n\u001b[0;32m   1165\u001b[0m     r, g, b \u001b[38;5;241m=\u001b[39m [\u001b[38;5;28mround\u001b[39m(\u001b[38;5;241m255.0\u001b[39m\u001b[38;5;241m*\u001b[39mx) \u001b[38;5;28;01mfor\u001b[39;00m x \u001b[38;5;129;01min\u001b[39;00m (r, g, b)]\n\u001b[0;32m   1166\u001b[0m \u001b[38;5;28;01mif\u001b[39;00m \u001b[38;5;129;01mnot\u001b[39;00m ((\u001b[38;5;241m0\u001b[39m \u001b[38;5;241m<\u001b[39m\u001b[38;5;241m=\u001b[39m r \u001b[38;5;241m<\u001b[39m\u001b[38;5;241m=\u001b[39m \u001b[38;5;241m255\u001b[39m) \u001b[38;5;129;01mand\u001b[39;00m (\u001b[38;5;241m0\u001b[39m \u001b[38;5;241m<\u001b[39m\u001b[38;5;241m=\u001b[39m g \u001b[38;5;241m<\u001b[39m\u001b[38;5;241m=\u001b[39m \u001b[38;5;241m255\u001b[39m) \u001b[38;5;129;01mand\u001b[39;00m (\u001b[38;5;241m0\u001b[39m \u001b[38;5;241m<\u001b[39m\u001b[38;5;241m=\u001b[39m b \u001b[38;5;241m<\u001b[39m\u001b[38;5;241m=\u001b[39m \u001b[38;5;241m255\u001b[39m)):\n\u001b[1;32m-> 1167\u001b[0m     \u001b[38;5;28;01mraise\u001b[39;00m TurtleGraphicsError(\u001b[38;5;124m\"\u001b[39m\u001b[38;5;124mbad color sequence: \u001b[39m\u001b[38;5;132;01m%s\u001b[39;00m\u001b[38;5;124m\"\u001b[39m \u001b[38;5;241m%\u001b[39m \u001b[38;5;28mstr\u001b[39m(color))\n\u001b[0;32m   1168\u001b[0m \u001b[38;5;28;01mreturn\u001b[39;00m \u001b[38;5;124m\"\u001b[39m\u001b[38;5;124m#\u001b[39m\u001b[38;5;132;01m%02x\u001b[39;00m\u001b[38;5;132;01m%02x\u001b[39;00m\u001b[38;5;132;01m%02x\u001b[39;00m\u001b[38;5;124m\"\u001b[39m \u001b[38;5;241m%\u001b[39m (r, g, b)\n",
      "\u001b[1;31mTurtleGraphicsError\u001b[0m: bad color sequence: (7, 0.0, 0.0)"
     ]
    }
   ],
   "source": [
    "import turtle as tt\n",
    "import colorsys\n",
    "\n",
    "from sympy import N\n",
    "\n",
    "tt.bgcolor('black')\n",
    "tt.pensize(3)\n",
    "tt.tracer(120)\n",
    "\n",
    "def des():\n",
    "    h=0\n",
    "    n=85\n",
    "    for i in range (788):\n",
    "        c=colorsys.hsv_to_rgb(h,1,7)\n",
    "        h+=1/n\n",
    "        tt.pencolor(c)\n",
    "        tt.rt(1)\n",
    "        tt.fd(34)\n",
    "        tt.bk(62)\n",
    "        tt.lt(-25)\n",
    "        tt.fd(48)\n",
    "        tt.bk(34)\n",
    "\n",
    "des()\n",
    "for i in range(22):\n",
    "    des()\n"
   ]
  }
 ],
 "metadata": {
  "kernelspec": {
   "display_name": "Python 3 (ipykernel)",
   "language": "python",
   "name": "python3"
  },
  "language_info": {
   "codemirror_mode": {
    "name": "ipython",
    "version": 3
   },
   "file_extension": ".py",
   "mimetype": "text/x-python",
   "name": "python",
   "nbconvert_exporter": "python",
   "pygments_lexer": "ipython3",
   "version": "3.9.12"
  }
 },
 "nbformat": 4,
 "nbformat_minor": 5
}
