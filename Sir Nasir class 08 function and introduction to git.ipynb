{
 "cells": [
  {
   "cell_type": "markdown",
   "id": "ab56563d",
   "metadata": {},
   "source": [
    "# Function Continue\n",
    "- Define\n",
    "- Call\n",
    "- Parameters\n",
    "- Arguments\n",
    "- Return\n",
    "- Keyword Arguments\n",
    "- Default Parameters"
   ]
  },
  {
   "cell_type": "markdown",
   "id": "5c9a2410",
   "metadata": {},
   "source": [
    "### Arbitrary number of arguments\n",
    "- arbitrary argument can not be used at the start"
   ]
  },
  {
   "cell_type": "code",
   "execution_count": 1,
   "id": "f01406d1",
   "metadata": {},
   "outputs": [],
   "source": [
    "# arbitrary argument will go into tuple\n",
    "\n",
    "def user_detail(name, email, *other_details):\n",
    "    print(name)\n",
    "    print(email)\n",
    "    print(other_details)"
   ]
  },
  {
   "cell_type": "code",
   "execution_count": 2,
   "id": "2d1866df",
   "metadata": {
    "scrolled": true
   },
   "outputs": [
    {
     "name": "stdout",
     "output_type": "stream",
     "text": [
      "Abdul\n",
      "abc@abc.com\n",
      "('fname', 'designation')\n"
     ]
    }
   ],
   "source": [
    "user_detail('Abdul', 'abc@abc.com', 'fname', 'designation')"
   ]
  },
  {
   "cell_type": "markdown",
   "id": "5daee162",
   "metadata": {},
   "source": [
    "### To get values not tuple, we will use 'for loop'"
   ]
  },
  {
   "cell_type": "code",
   "execution_count": 3,
   "id": "7c9664ec",
   "metadata": {},
   "outputs": [],
   "source": [
    "def user_detail(name, email, *other_details):\n",
    "    print(name)\n",
    "    print(email)\n",
    "    for val in other_details:\n",
    "        print(val)"
   ]
  },
  {
   "cell_type": "code",
   "execution_count": 4,
   "id": "53e6f679",
   "metadata": {
    "scrolled": true
   },
   "outputs": [
    {
     "name": "stdout",
     "output_type": "stream",
     "text": [
      "Abdul\n",
      "abc@abc.com\n",
      "fname\n",
      "designation\n"
     ]
    }
   ],
   "source": [
    "user_detail('Abdul', 'abc@abc.com', 'fname', 'designation')"
   ]
  },
  {
   "cell_type": "markdown",
   "id": "12560aa7",
   "metadata": {},
   "source": [
    "## If we are passing keyword arguments\n",
    "we use ** for keyword arguments:"
   ]
  },
  {
   "cell_type": "code",
   "execution_count": 5,
   "id": "b8e26f1b",
   "metadata": {},
   "outputs": [],
   "source": [
    "def user_profile(first, last, **otherdetails):\n",
    "    print(first)\n",
    "    print(last)\n",
    "    print(otherdetails)"
   ]
  },
  {
   "cell_type": "code",
   "execution_count": 6,
   "id": "3813e47c",
   "metadata": {
    "scrolled": true
   },
   "outputs": [
    {
     "name": "stdout",
     "output_type": "stream",
     "text": [
      "Ali\n",
      "Ahmad\n",
      "{'Gender': 'M', 'City': 'DIKhan'}\n"
     ]
    }
   ],
   "source": [
    "user_profile('Ali', 'Ahmad', Gender= 'M', City='DIKhan')"
   ]
  },
  {
   "cell_type": "markdown",
   "id": "30ada063",
   "metadata": {},
   "source": [
    "## To get key values, we use for loop:\n",
    "by default loop return 'keys'.\n",
    "if we use functions like: `.keys()`, `.values()`, `.items()` we will get the desired result."
   ]
  },
  {
   "cell_type": "code",
   "execution_count": 7,
   "id": "32831091",
   "metadata": {},
   "outputs": [],
   "source": [
    "def user_profile(first, last, **otherdetails):\n",
    "    print(first)\n",
    "    print(last)\n",
    "    for k in otherdetails:\n",
    "        print(otherdetails[k])"
   ]
  },
  {
   "cell_type": "code",
   "execution_count": 8,
   "id": "b7962425",
   "metadata": {
    "scrolled": true
   },
   "outputs": [
    {
     "name": "stdout",
     "output_type": "stream",
     "text": [
      "Ali\n",
      "Ahmad\n",
      "Male\n",
      "DIKhan\n"
     ]
    }
   ],
   "source": [
    "user_profile('Ali', 'Ahmad', Gender= 'Male', City='DIKhan')"
   ]
  },
  {
   "cell_type": "code",
   "execution_count": 9,
   "id": "17de8e1c",
   "metadata": {},
   "outputs": [],
   "source": [
    "def user_profile(first, last, **otherdetails):\n",
    "    print(first)\n",
    "    print(last)\n",
    "    for v in otherdetails.values():\n",
    "        print(v)"
   ]
  },
  {
   "cell_type": "code",
   "execution_count": 10,
   "id": "6307cc82",
   "metadata": {
    "scrolled": true
   },
   "outputs": [
    {
     "name": "stdout",
     "output_type": "stream",
     "text": [
      "Ali\n",
      "Ahmad\n",
      "Male\n",
      "DIKhan\n"
     ]
    }
   ],
   "source": [
    "user_profile('Ali', 'Ahmad', Gender= 'Male', City='DIKhan')"
   ]
  },
  {
   "cell_type": "code",
   "execution_count": 11,
   "id": "65b851aa",
   "metadata": {},
   "outputs": [],
   "source": [
    "def user_profile(first, last, **otherdetails):\n",
    "    print(first)\n",
    "    print(last)\n",
    "    for k, v in otherdetails.items():\n",
    "        print(k, v)"
   ]
  },
  {
   "cell_type": "code",
   "execution_count": 12,
   "id": "f9e4878a",
   "metadata": {
    "scrolled": true
   },
   "outputs": [
    {
     "name": "stdout",
     "output_type": "stream",
     "text": [
      "Ali\n",
      "Ahmad\n",
      "Gender Male\n",
      "City DIKhan\n"
     ]
    }
   ],
   "source": [
    "user_profile('Ali', 'Ahmad', Gender= 'Male', City='DIKhan')"
   ]
  },
  {
   "cell_type": "markdown",
   "id": "09071c62",
   "metadata": {},
   "source": [
    "### Returning a Dictionary:"
   ]
  },
  {
   "cell_type": "code",
   "execution_count": 13,
   "id": "3617f433",
   "metadata": {
    "direction": "rtl"
   },
   "outputs": [],
   "source": [
    "def userprofile(first, last, **otherdetails):\n",
    "    profile = {}\n",
    "    profile['first'] = first\n",
    "    profile['last'] = last\n",
    "    profile['other'] = otherdetails\n",
    "    return profile"
   ]
  },
  {
   "cell_type": "code",
   "execution_count": 14,
   "id": "29fa8bba",
   "metadata": {
    "scrolled": false
   },
   "outputs": [
    {
     "data": {
      "text/plain": [
       "{'first': 'abdul',\n",
       " 'last': 'basit',\n",
       " 'other': {'age': '30', 'location': 'DIK', 'subject': 'AI', 'Class': 'sunday'}}"
      ]
     },
     "execution_count": 14,
     "metadata": {},
     "output_type": "execute_result"
    }
   ],
   "source": [
    "userprofile('abdul', 'basit', age='30', location='DIK', subject='AI', Class='sunday')"
   ]
  },
  {
   "cell_type": "markdown",
   "id": "9b43d41d",
   "metadata": {
    "direction": "rtl"
   },
   "source": [
    "<h1 style=\"color:blue; font-family: Alvi Nastaleeq; direction: RTL;\">چونکہ otherdetails سے ہمیں ایک پوری ڈکشنری حاصل ہو رہی ہے۔ اس لیے ہم لوپ کے ذریعے اس سے key اور value نکال لیں گے۔</h1>\n",
    "\n",
    "<p style=\"color:blue; font-family: Mehr Nastaliq Web; direction: RTL;\">چونکہ otherdetails سے ہمیں ایک پوری ڈکشنری حاصل ہو رہی ہے۔ اس لیے ہم لوپ کے ذریعے اس سے key اور value نکال لیں گے۔</p> "
   ]
  },
  {
   "cell_type": "code",
   "execution_count": 15,
   "id": "a9d6309d",
   "metadata": {},
   "outputs": [],
   "source": [
    "def userprofile(first, last, **otherdetails):\n",
    "    profile = {}\n",
    "    profile['first'] = first\n",
    "    profile['last'] = last\n",
    "    for key, value in otherdetails.items():\n",
    "        profile[key] = value\n",
    "    return profile"
   ]
  },
  {
   "cell_type": "code",
   "execution_count": 16,
   "id": "a29f02e0",
   "metadata": {
    "scrolled": false
   },
   "outputs": [
    {
     "data": {
      "text/plain": [
       "{'first': 'abdul',\n",
       " 'last': 'basit',\n",
       " 'age': '30',\n",
       " 'location': 'DIK',\n",
       " 'subject': 'AI',\n",
       " 'Class': 'sunday'}"
      ]
     },
     "execution_count": 16,
     "metadata": {},
     "output_type": "execute_result"
    }
   ],
   "source": [
    "userprofile('abdul', 'basit', age='30', location='DIK', subject='AI', Class='sunday')"
   ]
  },
  {
   "cell_type": "raw",
   "id": "2dcaae8e",
   "metadata": {},
   "source": [
    "8-7. Album: Write a function called make_album() that builds a dictionary\n",
    "describing a music album The function should take in an artist name and an\n",
    "album title, and it should return a dictionary containing these two pieces of\n",
    "information Use the function to make three dictionaries representing different\n",
    "albums Print each return value to show that the dictionaries are storing the\n",
    "album information correctly\n",
    "\n",
    "Add an optional parameter to make_album() that allows you to store the\n",
    "number of tracks on an album If the calling line includes a value for the number of tracks, add that value to the album’s dictionary Make at least one new\n",
    "function call that includes the number of tracks on an album\n",
    "8-8. User Albums: Start with your program from Exercise 8-7 Write a while\n",
    "loop that allows users to enter an album’s artist and title Once you have that\n",
    "information, call make_album() with the user’s input and print the dictionary\n",
    "that’s created Be sure to include a quit value in the while loop"
   ]
  },
  {
   "cell_type": "code",
   "execution_count": 17,
   "id": "77051a6c",
   "metadata": {},
   "outputs": [],
   "source": [
    "def make_album(artistname, album_title):\n",
    "    album ={}\n",
    "    album['artist']=artistname\n",
    "    album['title'] = album_title\n",
    "    return album"
   ]
  },
  {
   "cell_type": "code",
   "execution_count": 18,
   "id": "4e77e92d",
   "metadata": {},
   "outputs": [
    {
     "name": "stdout",
     "output_type": "stream",
     "text": [
      "{'artist': 'artist1', 'title': 'album1'}\n"
     ]
    }
   ],
   "source": [
    "album1 = make_album(\"artist1\", \"album1\")\n",
    "print(album1)"
   ]
  },
  {
   "cell_type": "code",
   "execution_count": 19,
   "id": "577e241f",
   "metadata": {},
   "outputs": [
    {
     "name": "stdout",
     "output_type": "stream",
     "text": [
      "{'artist': 'artist2', 'title': 'album2'}\n"
     ]
    }
   ],
   "source": [
    "album2 = make_album(\"artist2\", \"album2\")\n",
    "print(album2)"
   ]
  },
  {
   "cell_type": "code",
   "execution_count": 20,
   "id": "f9624fe5",
   "metadata": {},
   "outputs": [
    {
     "name": "stdout",
     "output_type": "stream",
     "text": [
      "{'artist': 'artist3', 'title': 'album3'}\n"
     ]
    }
   ],
   "source": [
    "album3 = make_album(\"artist3\", \"album3\")\n",
    "print(album3)"
   ]
  },
  {
   "cell_type": "code",
   "execution_count": 21,
   "id": "8d9ee12a",
   "metadata": {},
   "outputs": [
    {
     "name": "stdout",
     "output_type": "stream",
     "text": [
      "'Bye'\n"
     ]
    }
   ],
   "source": [
    "number = None\n",
    "if number:\n",
    "    print(\"HEllo\")\n",
    "else:\n",
    "    print(\"'Bye'\")"
   ]
  },
  {
   "cell_type": "code",
   "execution_count": 22,
   "id": "f6653428",
   "metadata": {},
   "outputs": [],
   "source": [
    "def make_album(artistname, album_title,number_of_tracks=None):\n",
    "    album ={}\n",
    "    album['artist']=artistname\n",
    "    album['title'] = album_title\n",
    "    if number_of_tracks:\n",
    "        album['tracks'] = number_of_tracks\n",
    "    return album"
   ]
  },
  {
   "cell_type": "code",
   "execution_count": 23,
   "id": "3303e140",
   "metadata": {},
   "outputs": [
    {
     "data": {
      "text/plain": [
       "{'artist': 'artist3', 'title': 'album3', 'tracks': 23}"
      ]
     },
     "execution_count": 23,
     "metadata": {},
     "output_type": "execute_result"
    }
   ],
   "source": [
    "album4 = make_album(\"artist3\", \"album3\",23)\n",
    "album4"
   ]
  },
  {
   "cell_type": "code",
   "execution_count": 24,
   "id": "32428fc7",
   "metadata": {},
   "outputs": [
    {
     "data": {
      "text/plain": [
       "{'artist': 'artist3', 'title': 'album3'}"
      ]
     },
     "execution_count": 24,
     "metadata": {},
     "output_type": "execute_result"
    }
   ],
   "source": [
    "album5 = make_album(\"artist3\", \"album3\")\n",
    "album5"
   ]
  },
  {
   "cell_type": "code",
   "execution_count": 25,
   "id": "e4bdcb30",
   "metadata": {
    "scrolled": true
   },
   "outputs": [
    {
     "name": "stdout",
     "output_type": "stream",
     "text": [
      "Enter artist name or q to exitaaa\n",
      "Enter album title or q to exitalbum1\n",
      "Enter number of tracks2\n",
      "Enter artist name or q to exitbbbbb\n",
      "Enter album title or q to exitalbum2\n",
      "Enter number of tracks4\n",
      "Enter artist name or q to exitq\n"
     ]
    }
   ],
   "source": [
    "while True:\n",
    "    artist_name=input(\"Enter artist name or q to exit\")\n",
    "    \n",
    "    if artist_name==\"q\":\n",
    "        break\n",
    "    album_title = input(\"Enter album title or q to exit\")\n",
    "    \n",
    "    if album_title==\"q\":\n",
    "        break\n",
    "    number_of_tracks = input(\"Enter number of tracks\")\n",
    "    \n",
    "    if number_of_tracks.isdigit()==False or number_of_tracks==\"0\": \n",
    "        break  \n",
    "    else:\n",
    "        number_of_tracks=int(number_of_tracks)\n",
    "    "
   ]
  },
  {
   "cell_type": "markdown",
   "id": "7c73fe8f",
   "metadata": {},
   "source": [
    "## What is git???\n",
    "- Version Controlling System\n",
    "- Cloud Storage: Google Drive etc \n",
    "- The cloud used for git is github\n"
   ]
  }
 ],
 "metadata": {
  "kernelspec": {
   "display_name": "Python 3 (ipykernel)",
   "language": "python",
   "name": "python3"
  },
  "language_info": {
   "codemirror_mode": {
    "name": "ipython",
    "version": 3
   },
   "file_extension": ".py",
   "mimetype": "text/x-python",
   "name": "python",
   "nbconvert_exporter": "python",
   "pygments_lexer": "ipython3",
   "version": "3.9.12"
  }
 },
 "nbformat": 4,
 "nbformat_minor": 5
}
