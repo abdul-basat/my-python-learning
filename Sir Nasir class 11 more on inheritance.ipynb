{
 "cells": [
  {
   "cell_type": "markdown",
   "id": "cc663096",
   "metadata": {},
   "source": [
    "# Multi-level inheritance:"
   ]
  },
  {
   "cell_type": "code",
   "execution_count": 9,
   "id": "8e948343",
   "metadata": {},
   "outputs": [
    {
     "name": "stdout",
     "output_type": "stream",
     "text": [
      "Feature 1 is working\n",
      "Feature 2 is working\n"
     ]
    }
   ],
   "source": [
    "class A:\n",
    "    \n",
    "    def feature1(self):\n",
    "        print(\"Feature 1 is working\")       \n",
    "    def feature2(self):\n",
    "        print(\"Feature 2 is working\")\n",
    "\n",
    "a1 = A()\n",
    "a1.feature1()\n",
    "a1.feature2()"
   ]
  },
  {
   "cell_type": "markdown",
   "id": "7ce86b3e",
   "metadata": {},
   "source": [
    "## Single Level Inheritance:"
   ]
  },
  {
   "cell_type": "code",
   "execution_count": 10,
   "id": "1736bc78",
   "metadata": {},
   "outputs": [
    {
     "name": "stdout",
     "output_type": "stream",
     "text": [
      "Feature 3 is working\n",
      "Feature 4 is working\n",
      "Feature 1 is working\n",
      "Feature 2 is working\n"
     ]
    }
   ],
   "source": [
    "class B(A):\n",
    "    \n",
    "    def feature3(self):\n",
    "        print(\"Feature 3 is working\")       \n",
    "    def feature4(self):\n",
    "        print(\"Feature 4 is working\")\n",
    "\n",
    "b1 = B()\n",
    "b1.feature3()\n",
    "b1.feature4()\n",
    "b1.feature1()\n",
    "b1.feature2()"
   ]
  },
  {
   "cell_type": "markdown",
   "id": "d012df8a",
   "metadata": {},
   "source": [
    "## Multilevel inheritance:\n",
    "- because C inherits B and B inherits A:"
   ]
  },
  {
   "cell_type": "code",
   "execution_count": 12,
   "id": "fc8dd3f5",
   "metadata": {},
   "outputs": [
    {
     "name": "stdout",
     "output_type": "stream",
     "text": [
      "Feature 1 is working\n",
      "Feature 2 is working\n",
      "Feature 3 is working\n",
      "Feature 4 is working\n",
      "Feature 5 is working\n",
      "Feature 6 is working\n"
     ]
    }
   ],
   "source": [
    "class C(B):\n",
    "    \n",
    "    def feature5(self):\n",
    "        print(\"Feature 5 is working\")       \n",
    "    def feature6(self):\n",
    "        print(\"Feature 6 is working\")\n",
    "\n",
    "c1 = C()\n",
    "c1.feature1()\n",
    "c1.feature2()\n",
    "c1.feature3()\n",
    "c1.feature4()\n",
    "c1.feature5()\n",
    "c1.feature6()"
   ]
  },
  {
   "cell_type": "markdown",
   "id": "f9a7a1ff",
   "metadata": {},
   "source": [
    "## Multiple inheritance:"
   ]
  },
  {
   "cell_type": "code",
   "execution_count": 13,
   "id": "adab6cc7",
   "metadata": {},
   "outputs": [
    {
     "name": "stdout",
     "output_type": "stream",
     "text": [
      "Feature 1 is working\n",
      "Feature 2 is working\n"
     ]
    }
   ],
   "source": [
    "class A:\n",
    "    \n",
    "    def feature1(self):\n",
    "        print(\"Feature 1 is working\")       \n",
    "    def feature2(self):\n",
    "        print(\"Feature 2 is working\")\n",
    "\n",
    "a1 = A()\n",
    "a1.feature1()\n",
    "a1.feature2()"
   ]
  },
  {
   "cell_type": "code",
   "execution_count": 14,
   "id": "ebe65f96",
   "metadata": {},
   "outputs": [
    {
     "name": "stdout",
     "output_type": "stream",
     "text": [
      "Feature 3 is working\n",
      "Feature 4 is working\n"
     ]
    }
   ],
   "source": [
    "class B():\n",
    "    \n",
    "    def feature3(self):\n",
    "        print(\"Feature 3 is working\")       \n",
    "    def feature4(self):\n",
    "        print(\"Feature 4 is working\")\n",
    "\n",
    "b1 = B()\n",
    "b1.feature3()\n",
    "b1.feature4()"
   ]
  },
  {
   "cell_type": "code",
   "execution_count": 15,
   "id": "b1232576",
   "metadata": {},
   "outputs": [
    {
     "name": "stdout",
     "output_type": "stream",
     "text": [
      "Feature 1 is working\n",
      "Feature 2 is working\n",
      "Feature 3 is working\n",
      "Feature 4 is working\n",
      "Feature 5 is working\n",
      "Feature 6 is working\n"
     ]
    }
   ],
   "source": [
    "class C(A, B):\n",
    "    \n",
    "    def feature5(self):\n",
    "        print(\"Feature 5 is working\")       \n",
    "    def feature6(self):\n",
    "        print(\"Feature 6 is working\")\n",
    "\n",
    "c1 = C()\n",
    "c1.feature1()\n",
    "c1.feature2()\n",
    "c1.feature3()\n",
    "c1.feature4()\n",
    "c1.feature5()\n",
    "c1.feature6()"
   ]
  },
  {
   "cell_type": "markdown",
   "id": "10fa8742",
   "metadata": {},
   "source": [
    "### Constructor in Inheritance and Method Resolution Order:"
   ]
  },
  {
   "cell_type": "code",
   "execution_count": 2,
   "id": "e9bfed12",
   "metadata": {},
   "outputs": [
    {
     "name": "stdout",
     "output_type": "stream",
     "text": [
      "in init of A\n",
      "in init of A\n"
     ]
    }
   ],
   "source": [
    "class A:\n",
    "    \n",
    "    def __init__(self):\n",
    "        print(\"in init of A\")\n",
    "        \n",
    "    def feature1(self):\n",
    "        print(\"feature 1 is working\")\n",
    "    def feature2(self):\n",
    "        print(\"feature 2 is working\")\n",
    "        \n",
    "class B(A):\n",
    "        \n",
    "    def feature3(self):\n",
    "        print(\"feature 3 is working\")\n",
    "    def feature4(self):\n",
    "        print(\"feature 4 is working\")\n",
    "        \n",
    "a1 = A()\n",
    "ba = B()\n",
    "\n",
    "# constructor of A will be called even if we are creating object of B, since B don't have any constructor"
   ]
  },
  {
   "cell_type": "code",
   "execution_count": 3,
   "id": "8f603593",
   "metadata": {},
   "outputs": [
    {
     "name": "stdout",
     "output_type": "stream",
     "text": [
      "in init of A\n",
      "in init of B\n"
     ]
    }
   ],
   "source": [
    "class A:\n",
    "    \n",
    "    def __init__(self):\n",
    "        print(\"in init of A\")\n",
    "        \n",
    "    def feature1(self):\n",
    "        print(\"feature 1 is working\")\n",
    "    def feature2(self):\n",
    "        print(\"feature 2 is working\")\n",
    "        \n",
    "class B(A):\n",
    "    \n",
    "    def __init__(self):\n",
    "        print(\"in init of B\")\n",
    "        \n",
    "    def feature3(self):\n",
    "        print(\"feature 3 is working\")\n",
    "    def feature4(self):\n",
    "        print(\"feature 4 is working\")\n",
    "        \n",
    "a1 = A()\n",
    "ba = B()\n",
    "\n",
    "# constructor of B will be called now as object of B is created."
   ]
  },
  {
   "cell_type": "code",
   "execution_count": 4,
   "id": "9c928b56",
   "metadata": {},
   "outputs": [
    {
     "name": "stdout",
     "output_type": "stream",
     "text": [
      "in init of A\n",
      "in init of B\n",
      "in init of A\n"
     ]
    }
   ],
   "source": [
    "class A:\n",
    "    \n",
    "    def __init__(self):\n",
    "        print(\"in init of A\")\n",
    "        \n",
    "    def feature1(self):\n",
    "        print(\"feature 1 is working\")\n",
    "    def feature2(self):\n",
    "        print(\"feature 2 is working\")\n",
    "        \n",
    "class B(A):\n",
    "    \n",
    "    def __init__(self):\n",
    "        print(\"in init of B\")\n",
    "        super().__init__()\n",
    "        \n",
    "    def feature3(self):\n",
    "        print(\"feature 3 is working\")\n",
    "    def feature4(self):\n",
    "        print(\"feature 4 is working\")\n",
    "        \n",
    "a1 = A()\n",
    "ba = B()\n",
    "\n",
    "# if we want to call the init of A when object of B is creating  we will use super()"
   ]
  },
  {
   "cell_type": "markdown",
   "id": "4e00cdd1",
   "metadata": {},
   "source": [
    "# Multiple inheritance"
   ]
  },
  {
   "cell_type": "code",
   "execution_count": null,
   "id": "3df3911a",
   "metadata": {},
   "outputs": [],
   "source": [
    "class A:\n",
    "    \n",
    "    def __init__(self):\n",
    "        print(\"in init of A\")\n",
    "        \n",
    "    def feature1(self):\n",
    "        print(\"feature 1 is working\")\n",
    "    def feature2(self):\n",
    "        print(\"feature 2 is working\")"
   ]
  },
  {
   "cell_type": "code",
   "execution_count": null,
   "id": "1c04a207",
   "metadata": {},
   "outputs": [],
   "source": [
    "class B(A):\n",
    "    \n",
    "    def __init__(self):\n",
    "        print(\"in init of B\")\n",
    "        super().__init__()\n",
    "        \n",
    "    def feature3(self):\n",
    "        print(\"feature 3 is working\")\n",
    "    def feature4(self):\n",
    "        print(\"feature 4 is working\")"
   ]
  }
 ],
 "metadata": {
  "kernelspec": {
   "display_name": "Python 3 (ipykernel)",
   "language": "python",
   "name": "python3"
  },
  "language_info": {
   "codemirror_mode": {
    "name": "ipython",
    "version": 3
   },
   "file_extension": ".py",
   "mimetype": "text/x-python",
   "name": "python",
   "nbconvert_exporter": "python",
   "pygments_lexer": "ipython3",
   "version": "3.9.12"
  }
 },
 "nbformat": 4,
 "nbformat_minor": 5
}
