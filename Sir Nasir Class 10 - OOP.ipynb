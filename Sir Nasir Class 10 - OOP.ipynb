{
 "cells": [
  {
   "cell_type": "markdown",
   "id": "31ce0019",
   "metadata": {},
   "source": [
    "# 4 Pillars of OOP:\n",
    "\n",
    "   > INHERITANCE (Sharing of Information)\n",
    "   \n",
    "   > ENCAPSULATION (Grouping of Information)\n",
    "   \n",
    "   > ABSTRACTION (Hiding of Information)\n",
    "   \n",
    "   > POLYMORPHISM (Redefinig of Information)"
   ]
  },
  {
   "cell_type": "markdown",
   "id": "a5084dbd",
   "metadata": {},
   "source": [
    "# Inheritance (Sharing of Information)"
   ]
  },
  {
   "cell_type": "markdown",
   "id": "86acde28",
   "metadata": {},
   "source": [
    "- Type of inheritance\n",
    "    - Single\n",
    "    - Multilevel\n",
    "    - Multiple\n",
    "    \n",
    "- There must be relation between child and parent class"
   ]
  },
  {
   "cell_type": "markdown",
   "id": "50d975b5",
   "metadata": {},
   "source": [
    "How to inherit:"
   ]
  },
  {
   "cell_type": "raw",
   "id": "a2f444df",
   "metadata": {},
   "source": [
    "class child(parent):"
   ]
  },
  {
   "cell_type": "code",
   "execution_count": 93,
   "id": "6bfc279b",
   "metadata": {},
   "outputs": [],
   "source": [
    "class Car():\n",
    "    def __init__(self, brand, model, transmission, engine):\n",
    "        self.car_brand = brand\n",
    "        self.car_model = model\n",
    "        self.car_transmission = transmission\n",
    "        self.car_engine = engine\n",
    "        \n",
    "    def start(self):\n",
    "        print(f\"{self.car_brand}, {self.car_model}, {self.car_transmission}, {self.car_engine} is running\")\n",
    "    \n",
    "    def stop(self):\n",
    "        print(f\"{self.car_brand}, {self.car_model}, {self.car_transmission}, {self.car_engine} is stopped\")\n",
    "    \n",
    "    def fueltank(self):\n",
    "        print(f\"{self.car_brand}, {self.car_model}, {self.car_transmission}, {self.car_engine} filling fuel tank.\")\n",
    "    "
   ]
  },
  {
   "cell_type": "markdown",
   "id": "0395d533",
   "metadata": {},
   "source": [
    "# Creating object:"
   ]
  },
  {
   "cell_type": "code",
   "execution_count": 94,
   "id": "a2abca72",
   "metadata": {},
   "outputs": [],
   "source": [
    "car1 = Car(\"Honda\", \"City\", \"CVT\", \"1600cc\")"
   ]
  },
  {
   "cell_type": "code",
   "execution_count": 95,
   "id": "3a54d9c1",
   "metadata": {
    "scrolled": true
   },
   "outputs": [
    {
     "name": "stdout",
     "output_type": "stream",
     "text": [
      "Honda, City, CVT, 1600cc is running\n"
     ]
    }
   ],
   "source": [
    "car1.start()"
   ]
  },
  {
   "cell_type": "code",
   "execution_count": 96,
   "id": "20cd4080",
   "metadata": {
    "scrolled": false
   },
   "outputs": [
    {
     "name": "stdout",
     "output_type": "stream",
     "text": [
      "Honda, City, CVT, 1600cc is stopped\n"
     ]
    }
   ],
   "source": [
    "car1.stop()"
   ]
  },
  {
   "cell_type": "code",
   "execution_count": 97,
   "id": "8e3ae1de",
   "metadata": {},
   "outputs": [],
   "source": [
    "class SportsCar():\n",
    "    def __init__(self, brand, model, transmission, engine, topSpeed, seats):\n",
    "        self.car_brand = brand\n",
    "        self.car_model = model\n",
    "        self.car_transmission = transmission\n",
    "        self.car_engine = engine\n",
    "        self.topSpeed = topSpeed\n",
    "        self.seats = seats\n",
    "        \n",
    "    def start(self):\n",
    "        print(f\"{self.car_brand}, {self.car_model}, {self.car_transmission}, {self.car_engine}, {self.topSpeed}, {self.seats} is running\")\n",
    "    \n",
    "    def stop(self):\n",
    "        print(f\"{self.car_brand}, {self.car_model}, {self.car_transmission}, {self.car_engine}, {self.topSpeed}, {self.seats} is stopped\")\n",
    "    \n",
    "    def fueltank(self):\n",
    "        print(f\"{self.car_brand}, {self.car_model}, {self.car_transmission}, {self.car_engine}, {self.topSpeed}, {self.seats} filling fuel tank.\")\n",
    "    \n",
    "    def currentSpeed(self):\n",
    "        print(\"Car is running at highest speed\")"
   ]
  },
  {
   "cell_type": "code",
   "execution_count": 98,
   "id": "52373777",
   "metadata": {},
   "outputs": [],
   "source": [
    "sc1 = SportsCar(\"Honda\", \"2020\", \"Auto\", \"3000cc\", \"500km/hr\", 1)"
   ]
  },
  {
   "cell_type": "code",
   "execution_count": 99,
   "id": "05f686a8",
   "metadata": {
    "scrolled": true
   },
   "outputs": [
    {
     "name": "stdout",
     "output_type": "stream",
     "text": [
      "Honda, 2020, Auto, 3000cc, 500km/hr, 1 is running\n"
     ]
    }
   ],
   "source": [
    "sc1.start()"
   ]
  },
  {
   "cell_type": "code",
   "execution_count": 100,
   "id": "c1aa50c9",
   "metadata": {},
   "outputs": [
    {
     "name": "stdout",
     "output_type": "stream",
     "text": [
      "Honda, 2020, Auto, 3000cc, 500km/hr, 1 is stopped\n"
     ]
    }
   ],
   "source": [
    "sc1.stop()"
   ]
  },
  {
   "cell_type": "code",
   "execution_count": 101,
   "id": "30041990",
   "metadata": {
    "scrolled": true
   },
   "outputs": [
    {
     "name": "stdout",
     "output_type": "stream",
     "text": [
      "Honda, 2020, Auto, 3000cc, 500km/hr, 1 filling fuel tank.\n"
     ]
    }
   ],
   "source": [
    "sc1.fueltank()"
   ]
  },
  {
   "cell_type": "code",
   "execution_count": 102,
   "id": "e4eae481",
   "metadata": {
    "scrolled": false
   },
   "outputs": [
    {
     "name": "stdout",
     "output_type": "stream",
     "text": [
      "Car is running at highest speed\n"
     ]
    }
   ],
   "source": [
    "sc1.currentSpeed()"
   ]
  },
  {
   "cell_type": "markdown",
   "id": "3132d768",
   "metadata": {},
   "source": [
    "## Creating inheritance:"
   ]
  },
  {
   "cell_type": "code",
   "execution_count": 103,
   "id": "9c483b9f",
   "metadata": {},
   "outputs": [],
   "source": [
    "class SportsCar(Car):\n",
    "    def __init__(self, brand, model, transmission, engine, topSpeed, seats):\n",
    "        \n",
    "        super().__init__(brand, model, transmission, engine)\n",
    "        \n",
    "        self.topSpeed = topSpeed\n",
    "        self.seats = seats\n",
    "        \n",
    "    def currentSpeed(self):\n",
    "        print(f\"Car is running at {self.topSpeed} with {self.seats} seats.\")"
   ]
  },
  {
   "cell_type": "code",
   "execution_count": 104,
   "id": "946c59e8",
   "metadata": {},
   "outputs": [],
   "source": [
    "sc2 = SportsCar(\"Sporty\", \"2020\", \"Auto\", \"3000cc\", \"500km/hr\", 2)"
   ]
  },
  {
   "cell_type": "code",
   "execution_count": 105,
   "id": "d3503075",
   "metadata": {
    "scrolled": true
   },
   "outputs": [
    {
     "name": "stdout",
     "output_type": "stream",
     "text": [
      "Sporty, 2020, Auto, 3000cc is running\n"
     ]
    }
   ],
   "source": [
    "sc2.start()"
   ]
  },
  {
   "cell_type": "code",
   "execution_count": 106,
   "id": "9dc0d20c",
   "metadata": {},
   "outputs": [
    {
     "data": {
      "text/plain": [
       "'3000cc'"
      ]
     },
     "execution_count": 106,
     "metadata": {},
     "output_type": "execute_result"
    }
   ],
   "source": [
    "sc2.car_engine"
   ]
  },
  {
   "cell_type": "code",
   "execution_count": 107,
   "id": "7b104dda",
   "metadata": {
    "scrolled": true
   },
   "outputs": [
    {
     "name": "stdout",
     "output_type": "stream",
     "text": [
      "Sporty, 2020, Auto, 3000cc is stopped\n"
     ]
    }
   ],
   "source": [
    "sc2.stop()"
   ]
  },
  {
   "cell_type": "code",
   "execution_count": 108,
   "id": "2fedbfcf",
   "metadata": {
    "scrolled": true
   },
   "outputs": [
    {
     "name": "stdout",
     "output_type": "stream",
     "text": [
      "Car is running at 500km/hr with 2 seats.\n"
     ]
    }
   ],
   "source": [
    "sc2.currentSpeed()"
   ]
  },
  {
   "cell_type": "markdown",
   "id": "7ce4eb1a",
   "metadata": {},
   "source": [
    "# Polymorphism (Redefinig of Information)"
   ]
  },
  {
   "cell_type": "code",
   "execution_count": 109,
   "id": "3e9b8e5d",
   "metadata": {},
   "outputs": [],
   "source": [
    "def abc():\n",
    "    print(\"ABC\")\n",
    "    \n",
    "# two methods with same name but different parameters in a class called as method\n",
    "# but but but >> python doesn't support method overloading"
   ]
  },
  {
   "cell_type": "markdown",
   "id": "5c273fd2",
   "metadata": {},
   "source": [
    "### operator overloaing"
   ]
  },
  {
   "cell_type": "code",
   "execution_count": 110,
   "id": "74d0b96e",
   "metadata": {
    "scrolled": true
   },
   "outputs": [
    {
     "data": {
      "text/plain": [
       "5"
      ]
     },
     "execution_count": 110,
     "metadata": {},
     "output_type": "execute_result"
    }
   ],
   "source": [
    "2+3"
   ]
  },
  {
   "cell_type": "code",
   "execution_count": 111,
   "id": "f51ac49a",
   "metadata": {},
   "outputs": [
    {
     "data": {
      "text/plain": [
       "'Pakistan Zindabad'"
      ]
     },
     "execution_count": 111,
     "metadata": {},
     "output_type": "execute_result"
    }
   ],
   "source": [
    "\"Pakistan\" + \" \" + \"Zindabad\""
   ]
  },
  {
   "cell_type": "code",
   "execution_count": 112,
   "id": "02003823",
   "metadata": {},
   "outputs": [
    {
     "name": "stdout",
     "output_type": "stream",
     "text": [
      "ABC\n"
     ]
    }
   ],
   "source": [
    "abc()"
   ]
  },
  {
   "cell_type": "code",
   "execution_count": 113,
   "id": "b2b2ebc1",
   "metadata": {},
   "outputs": [],
   "source": [
    "def abc(value):\n",
    "    print(value)"
   ]
  },
  {
   "cell_type": "code",
   "execution_count": 114,
   "id": "d79935d1",
   "metadata": {
    "scrolled": true
   },
   "outputs": [
    {
     "name": "stdout",
     "output_type": "stream",
     "text": [
      "12\n"
     ]
    }
   ],
   "source": [
    "abc(12)"
   ]
  },
  {
   "cell_type": "code",
   "execution_count": 115,
   "id": "8004de8e",
   "metadata": {},
   "outputs": [],
   "source": [
    "class ElectricCar(Car):\n",
    "    def __init__(self, brand, model, transmission, engine, battery):\n",
    "        super(). __init__(brand, model, transmission, engine)\n",
    "        self.battery = battery\n",
    "        \n",
    "    def chargeBattery(self):\n",
    "        print(\"Battery is charged\")"
   ]
  },
  {
   "cell_type": "code",
   "execution_count": 116,
   "id": "7ab68207",
   "metadata": {},
   "outputs": [],
   "source": [
    "ec1 = ElectricCar(\"Tesla\", \"2022\", \"Auto\", \"600cc\", \"OSAKA\")"
   ]
  },
  {
   "cell_type": "code",
   "execution_count": 117,
   "id": "65e80744",
   "metadata": {},
   "outputs": [
    {
     "name": "stdout",
     "output_type": "stream",
     "text": [
      "Battery is charged\n"
     ]
    }
   ],
   "source": [
    "ec1.chargeBattery()"
   ]
  },
  {
   "cell_type": "code",
   "execution_count": 118,
   "id": "2fa40883",
   "metadata": {
    "scrolled": true
   },
   "outputs": [
    {
     "name": "stdout",
     "output_type": "stream",
     "text": [
      "Tesla, 2022, Auto, 600cc filling fuel tank.\n"
     ]
    }
   ],
   "source": [
    "ec1.fueltank()"
   ]
  },
  {
   "cell_type": "markdown",
   "id": "25dc3b25",
   "metadata": {},
   "source": [
    "## Important Note:\n",
    "- As an electric car has no fuel tank, so we have to modify the def fueltank\n",
    "    - we will use polymorphism in this case"
   ]
  },
  {
   "cell_type": "code",
   "execution_count": 119,
   "id": "93c7a07a",
   "metadata": {},
   "outputs": [],
   "source": [
    "# def fueltank inherited from class Car(), but we are overriding it here via polymorphism.\n",
    "# it only redefined for ElectricCar(), has actual value in class Car()\n",
    "# present in two shapes, but behaviour output is defferent"
   ]
  },
  {
   "cell_type": "code",
   "execution_count": 120,
   "id": "9960718c",
   "metadata": {},
   "outputs": [],
   "source": [
    "class ElectricCar(Car):\n",
    "    def __init__(self, brand, model, transmission, engine, battery):\n",
    "        super(). __init__(brand, model, transmission, engine)\n",
    "        self.battery = battery\n",
    "        \n",
    "    def chargeBattery(self):\n",
    "        print(\"Battery is charged\")\n",
    "    \n",
    "    def fueltank(self):\n",
    "        print(\"Electric car has no fuel tank.\")\n",
    "\n",
    "# this is the one way to do polymorphism\n",
    "#to re-implement the parents class method"
   ]
  },
  {
   "cell_type": "code",
   "execution_count": 121,
   "id": "6d31ac96",
   "metadata": {},
   "outputs": [],
   "source": [
    "ec2 = ElectricCar(\"Tesla\", \"2022\", \"Auto\", \"600cc\", \"OSAKA\")"
   ]
  },
  {
   "cell_type": "code",
   "execution_count": 122,
   "id": "ec36f00a",
   "metadata": {
    "scrolled": false
   },
   "outputs": [
    {
     "name": "stdout",
     "output_type": "stream",
     "text": [
      "Electric car has no fuel tank.\n"
     ]
    }
   ],
   "source": [
    "ec2.fueltank()"
   ]
  },
  {
   "cell_type": "markdown",
   "id": "3a03b5f5",
   "metadata": {},
   "source": [
    "# ENCAPSULATION (Grouping of Information)\n",
    "\n",
    "    Tip - search images on google: Encapsulation in python etc"
   ]
  },
  {
   "cell_type": "code",
   "execution_count": 123,
   "id": "d7ad6697",
   "metadata": {},
   "outputs": [],
   "source": [
    "class ElectricCar(Car):\n",
    "    def __init__(self, brand, model, transmission, engine, battery):\n",
    "        super(). __init__(brand, model, transmission, engine)\n",
    "        self.battery = battery\n",
    "        \n",
    "    def chargeBattery(self):\n",
    "        print(\"Battery is charged\")\n",
    "    \n",
    "    def fueltank(self):\n",
    "        print(\"Electric car has no fuel tank.\")\n",
    "        \n",
    "    def getBattery(self):\n",
    "        print(f\"Installed battery in car is {self.battery}\")\n",
    "    \n",
    "    def setBattery(self, newBattery):\n",
    "        self.battery = newBattery\n",
    "        \n",
    "    # not compulsory, but standard\n",
    "    # get use to get value and set used to set new value\n",
    "\n",
    "    # getters and setters or accessor and mutators"
   ]
  },
  {
   "cell_type": "code",
   "execution_count": 124,
   "id": "1246fbb7",
   "metadata": {},
   "outputs": [],
   "source": [
    "ec3 = ElectricCar(\"Tesla\", \"2022\", \"Auto\", \"700cc\", \"EXIDE\")"
   ]
  },
  {
   "cell_type": "code",
   "execution_count": 125,
   "id": "7f079f24",
   "metadata": {},
   "outputs": [
    {
     "name": "stdout",
     "output_type": "stream",
     "text": [
      "Installed battery in car is EXIDE\n"
     ]
    }
   ],
   "source": [
    "ec3.getBattery()"
   ]
  },
  {
   "cell_type": "code",
   "execution_count": 126,
   "id": "3f03b632",
   "metadata": {},
   "outputs": [],
   "source": [
    "ec3.setBattery(\"ATLAS\")"
   ]
  },
  {
   "cell_type": "code",
   "execution_count": 127,
   "id": "ed65e1db",
   "metadata": {
    "scrolled": true
   },
   "outputs": [
    {
     "name": "stdout",
     "output_type": "stream",
     "text": [
      "Installed battery in car is ATLAS\n"
     ]
    }
   ],
   "source": [
    "ec3.getBattery()"
   ]
  },
  {
   "cell_type": "code",
   "execution_count": 128,
   "id": "e22b0838",
   "metadata": {},
   "outputs": [],
   "source": [
    "class Student():\n",
    "    def __init__(self,roll,name,course,institute):\n",
    "        self.roll =roll\n",
    "        self.name = name\n",
    "        self.course = course\n",
    "        self.institute = institute\n",
    "    \n",
    "    def getroll(self):\n",
    "        print(f\"Students roll num is {self.roll}\")\n",
    "    def setroll(self,newRoll):\n",
    "        print(\"Roll number cannot be changed\")\n",
    "        \n",
    "    def getname(self):\n",
    "        print(f\"Students roll num is {self.name}\")\n",
    "    def setname(self,newName):\n",
    "        print(\"Name cannot be changed\")    \n",
    "        \n",
    "    def getrcourse(self):\n",
    "        print(f\"Students course is {self.course}\")\n",
    "    def setcourse(self,newCourse):\n",
    "        course = ['AI',\"IoT\",\"BCC\",\"metaverse\", \"cloudcomp\"]\n",
    "        if newCourse in course:\n",
    "            self.course = newCourse\n",
    "        else:\n",
    "            print(\"Applied course is not avialable\")"
   ]
  },
  {
   "cell_type": "code",
   "execution_count": 129,
   "id": "f247cef6",
   "metadata": {},
   "outputs": [],
   "source": [
    "s1 = Student(\"111\", \"Abdul Basit\", \"AI\", \"PIAIC\")"
   ]
  },
  {
   "cell_type": "code",
   "execution_count": 130,
   "id": "a47da3ca",
   "metadata": {
    "scrolled": true
   },
   "outputs": [
    {
     "name": "stdout",
     "output_type": "stream",
     "text": [
      "Students roll num is 111\n"
     ]
    }
   ],
   "source": [
    "s1.getroll()"
   ]
  },
  {
   "cell_type": "code",
   "execution_count": 131,
   "id": "9a915e93",
   "metadata": {},
   "outputs": [
    {
     "name": "stdout",
     "output_type": "stream",
     "text": [
      "Roll number cannot be changed\n"
     ]
    }
   ],
   "source": [
    "s1.setroll(2345)"
   ]
  },
  {
   "cell_type": "code",
   "execution_count": 132,
   "id": "f1496a55",
   "metadata": {},
   "outputs": [
    {
     "name": "stdout",
     "output_type": "stream",
     "text": [
      "Students roll num is 111\n"
     ]
    }
   ],
   "source": [
    "s1.getroll()"
   ]
  },
  {
   "cell_type": "code",
   "execution_count": 133,
   "id": "26125583",
   "metadata": {},
   "outputs": [
    {
     "name": "stdout",
     "output_type": "stream",
     "text": [
      "Students course is AI\n"
     ]
    }
   ],
   "source": [
    "s1.getrcourse()"
   ]
  },
  {
   "cell_type": "code",
   "execution_count": 134,
   "id": "205ce6bf",
   "metadata": {},
   "outputs": [
    {
     "name": "stdout",
     "output_type": "stream",
     "text": [
      "Applied course is not avialable\n"
     ]
    }
   ],
   "source": [
    "s1.setcourse(\"DevOps\")"
   ]
  },
  {
   "cell_type": "code",
   "execution_count": 135,
   "id": "5718b11b",
   "metadata": {},
   "outputs": [],
   "source": [
    "s1.setcourse('IoT')"
   ]
  },
  {
   "cell_type": "code",
   "execution_count": 136,
   "id": "7ef06851",
   "metadata": {
    "scrolled": true
   },
   "outputs": [
    {
     "name": "stdout",
     "output_type": "stream",
     "text": [
      "Students course is IoT\n"
     ]
    }
   ],
   "source": [
    "s1.getrcourse()"
   ]
  },
  {
   "cell_type": "markdown",
   "id": "5414b00c",
   "metadata": {},
   "source": [
    "# How to make \".py\" file in jupyter: "
   ]
  },
  {
   "cell_type": "code",
   "execution_count": 1,
   "id": "5155bb08",
   "metadata": {},
   "outputs": [
    {
     "name": "stdout",
     "output_type": "stream",
     "text": [
      "Writing example.py\n"
     ]
    }
   ],
   "source": [
    "%%writefile example.py\n",
    "def abc():\n",
    "    print('Hello')"
   ]
  },
  {
   "cell_type": "code",
   "execution_count": 3,
   "id": "bdd8169b",
   "metadata": {},
   "outputs": [],
   "source": [
    "import example"
   ]
  },
  {
   "cell_type": "code",
   "execution_count": 4,
   "id": "985eef16",
   "metadata": {},
   "outputs": [
    {
     "name": "stdout",
     "output_type": "stream",
     "text": [
      "Hello\n"
     ]
    }
   ],
   "source": [
    "example.abc()"
   ]
  }
 ],
 "metadata": {
  "kernelspec": {
   "display_name": "Python 3 (ipykernel)",
   "language": "python",
   "name": "python3"
  },
  "language_info": {
   "codemirror_mode": {
    "name": "ipython",
    "version": 3
   },
   "file_extension": ".py",
   "mimetype": "text/x-python",
   "name": "python",
   "nbconvert_exporter": "python",
   "pygments_lexer": "ipython3",
   "version": "3.9.12"
  }
 },
 "nbformat": 4,
 "nbformat_minor": 5
}
