{
 "cells": [
  {
   "cell_type": "markdown",
   "id": "47eb7890",
   "metadata": {},
   "source": [
    "# Random Number:\n",
    "    Q 1:\n",
    "        a. Generate a number list between 10-100 and store them in separate array.\n",
    "        b. find their sum and average\n",
    "        c. find maximum and minimum number\n",
    "        d. check how many numbers are greater than 40 (using continue command)\n",
    "        e. find the sum of number greater than 40\n",
    "    Q 2:\n",
    "        Generate random number b/w 1 and 10. Ask users to guess 3 times. if corrects, look should break.\n",
    "    Q 3:\n",
    "        Make a program to check the common numbers b/w two lists\n",
    "    Q 4:\n",
    "        Input a text statement from user and check how many times a particular character is repeated in the text.\n",
    "    Q 5:\n",
    "        Take a number from user and print its table."
   ]
  },
  {
   "cell_type": "code",
   "execution_count": 35,
   "id": "4cc1e921",
   "metadata": {},
   "outputs": [
    {
     "name": "stdout",
     "output_type": "stream",
     "text": [
      "Number List:  [59, 57, 35, 50, 59, 84, 78, 11, 71, 62, 39, 28, 78, 50, 26, 76, 14, 25, 68, 20, 57, 47, 30, 51, 30, 43, 11, 61, 49, 32, 81, 63, 65, 49, 15, 49, 27, 24, 87, 85, 90, 81, 15, 80, 81, 13, 72, 89, 15, 31, 75, 78, 74, 21, 24, 59, 23, 18, 39, 66, 69, 36, 80, 78, 88, 12, 64, 40, 30, 75, 22, 43, 12, 48, 83, 47, 66, 37, 34, 50, 11, 73, 51, 26, 15, 86, 62, 25, 30, 63, 48, 85, 45, 58, 59, 77, 58, 36, 41, 88]\n"
     ]
    }
   ],
   "source": [
    "import random\n",
    "# print('Random Numbers: ', random.randint(10,90))\n",
    "rand_num = []\n",
    "for i in range(100):\n",
    "    r = random.randint(10,90)\n",
    "    rand_num.append(r)\n",
    "print('Number List: ', rand_num)\n"
   ]
  },
  {
   "cell_type": "markdown",
   "id": "de7ee400",
   "metadata": {},
   "source": [
    "# POINT TO BE SEARCHED:\n",
    "   difference between defining variable in and out of loop"
   ]
  },
  {
   "cell_type": "code",
   "execution_count": 41,
   "id": "57f89767",
   "metadata": {},
   "outputs": [
    {
     "name": "stdout",
     "output_type": "stream",
     "text": [
      "Number Sum:  5041\n"
     ]
    }
   ],
   "source": [
    "number_sum = 0\n",
    "for j in rand_num:\n",
    "    number_sum = number_sum + j\n",
    "print('Number Sum: ', number_sum)"
   ]
  },
  {
   "cell_type": "code",
   "execution_count": 1,
   "id": "9e9cc710",
   "metadata": {},
   "outputs": [
    {
     "ename": "SyntaxError",
     "evalue": "invalid syntax (713717555.py, line 2)",
     "output_type": "error",
     "traceback": [
      "\u001b[1;36m  Input \u001b[1;32mIn [1]\u001b[1;36m\u001b[0m\n\u001b[1;33m    for num > 40 in rand_num:\u001b[0m\n\u001b[1;37m                            ^\u001b[0m\n\u001b[1;31mSyntaxError\u001b[0m\u001b[1;31m:\u001b[0m invalid syntax\n"
     ]
    }
   ],
   "source": [
    "greater_than_40 = None\n",
    "for num > 40 in rand_num:\n",
    "    print(num)"
   ]
  }
 ],
 "metadata": {
  "kernelspec": {
   "display_name": "Python 3 (ipykernel)",
   "language": "python",
   "name": "python3"
  },
  "language_info": {
   "codemirror_mode": {
    "name": "ipython",
    "version": 3
   },
   "file_extension": ".py",
   "mimetype": "text/x-python",
   "name": "python",
   "nbconvert_exporter": "python",
   "pygments_lexer": "ipython3",
   "version": "3.9.12"
  }
 },
 "nbformat": 4,
 "nbformat_minor": 5
}
